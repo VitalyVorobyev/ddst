{
 "cells": [
  {
   "cell_type": "code",
   "execution_count": 41,
   "metadata": {},
   "outputs": [],
   "source": [
    "import os\n",
    "import jax\n",
    "import jax.numpy as np\n",
    "import numpy as onp\n",
    "import jax.random as rjax\n",
    "import flax\n",
    "from flax import nn, optim, serialization\n",
    "import matplotlib.pyplot as plt"
   ]
  },
  {
   "cell_type": "code",
   "execution_count": 2,
   "metadata": {},
   "outputs": [],
   "source": [
    "from lib.params import mdn, mdstp, mpip"
   ]
  },
  {
   "cell_type": "code",
   "execution_count": 3,
   "metadata": {},
   "outputs": [],
   "source": [
    "import matplotlib.pyplot as plt"
   ]
  },
  {
   "cell_type": "code",
   "execution_count": 43,
   "metadata": {},
   "outputs": [],
   "source": [
    "path_data = './mcsamples'\n",
    "path_models = './dat'"
   ]
  },
  {
   "cell_type": "code",
   "execution_count": 4,
   "metadata": {},
   "outputs": [],
   "source": [
    "def get_vars(data):\n",
    "    \"\"\" \"\"\"\n",
    "    e, mddsq, md1pisq = [data[:,i] for i in range(3)]\n",
    "    tdd = (np.sqrt(mddsq) - 2*mdn)*10**3\n",
    "    mask = tdd > 0\n",
    "    pd = np.sqrt(np.clip(tdd, 0, None) * mdn * 10**3)\n",
    "    md1pi = np.sqrt(md1pisq)\n",
    "    return np.column_stack([e[mask], pd[mask], md1pi[mask]])"
   ]
  },
  {
   "cell_type": "code",
   "execution_count": 5,
   "metadata": {},
   "outputs": [],
   "source": [
    "def draw_1d_projections(ax, data, bins=250, weights=None):\n",
    "    labels = [r'$E (MeV)$', r'$p(D^0)$ (MeV)', r'$m(D^0pi^+)$ (GeV)']\n",
    "    for idx, lbl in enumerate(labels):\n",
    "        ax[idx].hist(data[:,idx], bins=bins, weights=weights);\n",
    "        ax[idx].grid()\n",
    "        ax[idx].set_xlabel(lbl)"
   ]
  },
  {
   "cell_type": "code",
   "execution_count": 6,
   "metadata": {},
   "outputs": [],
   "source": [
    "def hist_2d(x, y, rng=None, bins=50, weights=None):\n",
    "    hist, xbins, ybins = onp.histogram2d(x, y, bins=bins, range=rng, weights=weights)\n",
    "    xbins = 0.5 * (xbins[:-1] + xbins[1:])\n",
    "    ybins = 0.5 * (ybins[:-1] + ybins[1:])\n",
    "    xv, yv = onp.meshgrid(xbins, ybins)\n",
    "    return (xv, yv, hist.T)"
   ]
  },
  {
   "cell_type": "code",
   "execution_count": 7,
   "metadata": {},
   "outputs": [],
   "source": [
    "def put_contours(ax, x, y, bins=20, levels=6, weights=None):\n",
    "    ax.contourf(*hist_2d(x=x, y=y, rng=None, bins=[bins,bins], weights=weights), levels=levels)"
   ]
  },
  {
   "cell_type": "code",
   "execution_count": 8,
   "metadata": {},
   "outputs": [],
   "source": [
    "def draw_2d_projections(ax, data, bins=20, levels=6, weights=None):\n",
    "    for idx, (i, j) in enumerate([[0, 1], [0, 2], [1, 2]]):\n",
    "        put_contours(ax[idx], data[:,i], data[:,j], bins, levels, weights)\n",
    "        ax[idx].grid()"
   ]
  },
  {
   "cell_type": "code",
   "execution_count": 9,
   "metadata": {},
   "outputs": [],
   "source": [
    "def normalize(data):\n",
    "    means = [np.mean(data[:,i]) for i in range(3)]\n",
    "    stds = [np.std(data[:,i]) for i in range(3)]\n",
    "    newdata = np.column_stack([(data[:, i] - means[i]) / stds[i] for i in range(3)])\n",
    "    return (newdata, means, stds)"
   ]
  },
  {
   "cell_type": "code",
   "execution_count": 10,
   "metadata": {},
   "outputs": [],
   "source": [
    "@flax.struct.dataclass\n",
    "class TrainState:\n",
    "    optimizer: optim.Optimizer"
   ]
  },
  {
   "cell_type": "code",
   "execution_count": 11,
   "metadata": {},
   "outputs": [],
   "source": [
    "class NN(nn.Module):\n",
    "    def apply(self, x):\n",
    "        x = nn.Dense(x, features=32)\n",
    "        x = nn.relu(x)\n",
    "        x = nn.Dense(x, features=32)\n",
    "        x = nn.relu(x)\n",
    "        x = nn.Dense(x, features=16)\n",
    "        x = nn.relu(x)\n",
    "        x = nn.Dense(x, features=1)\n",
    "        return nn.sigmoid(x)"
   ]
  },
  {
   "cell_type": "code",
   "execution_count": 35,
   "metadata": {},
   "outputs": [
    {
     "data": {
      "text/plain": [
       "Model(module=<class '__main__.NN'>, params={'Dense_0': {'kernel': array([[-0.40669298,  0.7407641 , -0.55459696,  0.86654246,  1.0474176 ,\n",
       "        -0.40281716, -0.7488854 , -0.06316879,  0.1270135 ,  1.1394696 ,\n",
       "         0.5355137 , -0.3285502 ,  0.8485936 , -1.2919761 ,  0.3311791 ,\n",
       "        -0.24746868,  0.91903275,  1.1913675 ,  0.1516488 , -0.7803412 ,\n",
       "        -1.0458776 ,  0.3230338 , -0.69038874,  1.1256745 , -0.758929  ,\n",
       "         0.3703078 , -0.6319485 ,  0.5960354 ,  0.34397566,  0.17854665,\n",
       "         0.9501185 , -1.2231178 ],\n",
       "       [-0.156446  , -0.54600513, -0.0204754 , -0.5939019 ,  0.1198102 ,\n",
       "        -0.09914881, -0.9340051 ,  0.0295719 , -0.0231733 , -0.778625  ,\n",
       "         0.9253705 ,  0.39809144, -0.85138506,  0.5822102 , -0.550539  ,\n",
       "        -0.3203855 ,  0.57707065,  0.39235684, -0.90600866, -0.69578886,\n",
       "        -0.48243085,  0.1176056 ,  0.5072882 , -0.1335636 ,  0.0796812 ,\n",
       "        -0.2566952 , -0.72678065,  1.2680199 ,  0.76102483,  0.29551774,\n",
       "        -1.0481023 ,  0.30842727],\n",
       "       [-0.11768861,  1.326681  , -0.05023891,  0.02109116,  0.2319027 ,\n",
       "         1.086636  , -0.03966526, -0.67621666,  0.74683905, -0.84215593,\n",
       "         0.9287633 ,  0.33519602, -0.2544112 ,  0.4311851 ,  1.1522436 ,\n",
       "         0.37307897, -0.54626024, -0.37188774, -0.6730665 , -0.1944615 ,\n",
       "         0.947797  , -0.00647125,  0.38226256, -0.05577673, -0.0983594 ,\n",
       "        -1.0355544 ,  0.8222487 , -0.12398255, -0.01969004, -0.6497778 ,\n",
       "         0.1675927 , -0.91397554]], dtype=float32), 'bias': array([-0.46778986,  0.00631779, -0.44759795,  0.4032421 , -0.14800762,\n",
       "       -0.2001644 ,  0.26138556,  0.34213755,  0.19778767,  0.33549732,\n",
       "        0.03916249,  0.43231016,  0.36005804, -0.12160145,  0.02852632,\n",
       "        0.41965154,  0.3056653 ,  0.31777576, -0.16221349,  0.03649598,\n",
       "       -0.50882846,  0.3779648 , -0.17226678,  0.27849638, -0.5206198 ,\n",
       "       -0.042453  ,  0.5651632 ,  0.3286103 , -1.08407   ,  0.41874903,\n",
       "        0.02384321, -0.30081114], dtype=float32)}, 'Dense_1': {'kernel': array([[ 0.49761996, -0.17071958,  0.23904347, ...,  0.03987765,\n",
       "         0.16835736,  0.06535242],\n",
       "       [ 0.1820347 , -0.11144021,  0.01376264, ...,  0.17856729,\n",
       "        -0.11339415, -0.3938732 ],\n",
       "       [ 0.39121532, -0.11046294,  0.15283556, ...,  0.01195766,\n",
       "         0.01123848,  0.25456142],\n",
       "       ...,\n",
       "       [-0.19083938,  0.17421417, -0.05509439, ..., -0.13518408,\n",
       "        -0.3026587 , -0.39674196],\n",
       "       [-0.18709904, -0.0947549 , -0.07384752, ...,  0.19014876,\n",
       "        -0.5030339 ,  0.32207924],\n",
       "       [-0.264896  , -0.54415166,  0.01304534, ..., -0.16791981,\n",
       "        -0.1191199 ,  0.10488606]], dtype=float32), 'bias': array([ 0.513288  ,  0.41465864,  0.0756974 ,  0.11492245, -0.0370402 ,\n",
       "       -0.02535697, -0.30875793,  0.07517406, -0.366253  ,  0.06962954,\n",
       "        0.2683397 , -0.56493837, -0.03616722, -0.02314766, -0.06101515,\n",
       "        0.03586453, -0.08071635, -0.28564787, -0.19480233, -0.08504727,\n",
       "       -0.3389807 , -0.06082757,  0.21548775,  0.23115177, -0.06097983,\n",
       "       -0.02387098,  0.162468  , -0.04099355,  0.32087648,  0.29386112,\n",
       "        0.28861302, -0.20400271], dtype=float32)}, 'Dense_2': {'kernel': array([[ 6.46355331e-01, -4.38259803e-02, -2.33799093e-23,\n",
       "         6.90986574e-01,  6.47568524e-01, -1.31900549e+00,\n",
       "        -3.59495163e-01, -3.61696362e-01,  6.33699596e-01,\n",
       "         5.17217815e-01, -2.88920701e-01, -7.15479031e-02,\n",
       "         2.83752590e-01,  4.59201872e-01,  5.64863980e-02,\n",
       "         4.04500216e-01],\n",
       "       [ 3.89195204e-01, -1.04745112e-01,  2.32402235e-01,\n",
       "         2.90058434e-01,  5.24287581e-01, -1.22792600e-02,\n",
       "         1.50147736e-01, -5.20261943e-01, -1.29477769e-01,\n",
       "        -9.88157615e-02, -9.98568594e-01, -1.67583615e-01,\n",
       "         1.61055893e-01,  3.05875272e-01, -1.25256073e+00,\n",
       "        -9.57868159e-01],\n",
       "       [ 2.55786449e-01, -2.59059608e-01,  6.99656010e-02,\n",
       "        -9.07298401e-02,  6.93410710e-02,  1.25730738e-01,\n",
       "         2.13074416e-01,  6.82890639e-02,  2.08959416e-01,\n",
       "         2.91121993e-02,  1.45067453e-01, -1.61653712e-01,\n",
       "         3.16167712e-01, -2.37259511e-02,  1.32060513e-01,\n",
       "         1.86632127e-01],\n",
       "       [ 2.88096607e-01,  1.75904751e-01,  1.90181717e-01,\n",
       "         1.21692009e-01,  1.02397040e-01, -1.58333153e-01,\n",
       "         2.92408347e-01, -1.01483613e-01,  6.24239556e-02,\n",
       "        -1.31938741e-01,  2.42637932e-01, -1.63983598e-01,\n",
       "        -5.29372320e-02,  1.11985378e-01,  1.17034554e-01,\n",
       "        -1.46994904e-01],\n",
       "       [ 1.21525073e+00, -1.61103830e-01, -2.91999145e-13,\n",
       "         1.30028152e+00,  1.50778317e+00, -4.24477726e-01,\n",
       "        -1.40223624e-02,  1.44150496e-01,  1.49459255e+00,\n",
       "         1.56812119e+00, -8.13760936e-01, -1.45051660e-09,\n",
       "         1.02799892e+00,  1.04011607e+00, -4.16537046e-01,\n",
       "        -4.57563698e-01],\n",
       "       [ 1.17022298e-01, -4.30407465e-01, -8.05203319e-02,\n",
       "         3.89621973e-01,  2.67198950e-01,  4.52739209e-01,\n",
       "        -6.89576507e-01, -1.26426537e-02,  1.17075436e-01,\n",
       "         2.65121050e-02, -4.29634005e-02, -1.17211267e-01,\n",
       "         3.84224474e-01,  2.60195851e-01, -1.92184269e-01,\n",
       "        -1.46554515e-01],\n",
       "       [-2.05333182e-03, -5.62535860e-02, -1.16205312e-01,\n",
       "         2.18092322e-01,  3.37676704e-01,  3.90456676e-01,\n",
       "        -1.24579005e-01, -9.93832052e-01,  4.50815886e-01,\n",
       "         4.14858133e-01, -3.63939852e-02,  3.40171270e-02,\n",
       "         2.99230248e-01,  8.29298720e-02, -2.67346770e-01,\n",
       "        -7.09661171e-02],\n",
       "       [-2.32536212e-01,  2.35544011e-01, -1.61519349e-01,\n",
       "         6.51989039e-03, -1.01141714e-01, -4.03616615e-02,\n",
       "         2.51874059e-01, -3.80807906e-01, -2.63395131e-01,\n",
       "        -2.18957067e-02, -2.62344599e-01, -1.32035077e-01,\n",
       "        -5.71031094e-01, -2.50792384e-01, -2.97478568e-02,\n",
       "        -2.25400226e-03],\n",
       "       [ 2.76013255e-01, -3.79296467e-02,  8.50322098e-02,\n",
       "         1.09719656e-01, -1.95196122e-01, -6.21129014e-02,\n",
       "        -3.55429679e-01, -2.89674461e-01,  1.29103154e-01,\n",
       "         2.78904587e-01, -2.83016041e-02,  3.45526710e-02,\n",
       "         4.71310019e-01,  1.68892950e-01, -6.20551825e-01,\n",
       "        -3.93846035e-01],\n",
       "       [-1.36278113e-02,  1.47178188e-01,  1.75495937e-01,\n",
       "        -3.50582480e-01,  4.45125774e-02, -6.09726787e-01,\n",
       "         7.85182267e-02, -5.15047669e-01,  1.98590029e-02,\n",
       "        -1.23131908e-01,  6.52910918e-02,  2.13263348e-01,\n",
       "        -2.12547079e-01,  3.09423506e-01, -3.50433588e-02,\n",
       "         1.70322955e-02],\n",
       "       [ 4.70985115e-01,  1.42693520e-01, -2.01102287e-01,\n",
       "         3.44573855e-01,  3.36877972e-01,  5.01502812e-01,\n",
       "         3.08919977e-02, -8.26918244e-01,  3.08824986e-01,\n",
       "         5.97922921e-01, -2.27363333e-01, -1.22343503e-01,\n",
       "         2.93479919e-01,  4.86723393e-01, -2.07234576e-01,\n",
       "        -3.11803252e-01],\n",
       "       [ 9.10760760e-01, -1.94985256e-01, -1.01249712e-02,\n",
       "         8.36584628e-01,  7.90315151e-01,  7.45347381e-01,\n",
       "        -9.49666560e-01,  9.84301642e-02,  6.66432142e-01,\n",
       "         1.43003166e+00, -1.68824047e-01, -8.46679881e-03,\n",
       "         3.76929641e-01,  9.08896327e-01,  6.63634250e-03,\n",
       "         3.56872976e-01],\n",
       "       [ 4.27119076e-01, -3.65713835e-01, -1.63413748e-01,\n",
       "         3.60556453e-01,  4.23844904e-02,  3.74366120e-02,\n",
       "        -3.29395920e-01,  2.62644067e-02, -5.71148237e-04,\n",
       "        -2.78966844e-01, -4.80740637e-01, -5.25737815e-02,\n",
       "         1.59078956e-01,  3.36913884e-01, -3.74738604e-01,\n",
       "        -4.47778970e-01],\n",
       "       [ 1.21607833e-01,  2.74323095e-02,  1.67283773e-01,\n",
       "         2.95441672e-02, -4.46555503e-02,  2.32354831e-02,\n",
       "         1.10231526e-02, -1.51371196e-01,  9.47125927e-02,\n",
       "         1.79897383e-01,  1.00206450e-01, -2.96653360e-01,\n",
       "         8.76608193e-02, -1.49947777e-01, -3.09728891e-01,\n",
       "        -9.91127938e-02],\n",
       "       [-1.08011685e-01,  5.56110181e-02, -1.96390167e-01,\n",
       "         6.59304112e-02, -1.72667474e-01, -1.44542143e-01,\n",
       "         6.06710911e-02, -3.68254744e-02, -1.59231290e-01,\n",
       "         2.40101293e-02, -2.66937494e-01, -5.19876890e-02,\n",
       "         5.79652749e-02,  2.37796694e-01, -1.88831031e-01,\n",
       "         1.48761123e-01],\n",
       "       [ 6.11771680e-02, -3.31180990e-01, -2.51599960e-02,\n",
       "         1.36694565e-01, -5.57403006e-02,  2.20715612e-01,\n",
       "         9.27385017e-02,  6.79643452e-02,  1.99577913e-01,\n",
       "         9.77034122e-02, -3.55963968e-02, -5.28425984e-02,\n",
       "         2.50684619e-01,  4.63723689e-01,  2.50622034e-02,\n",
       "        -1.99236006e-01],\n",
       "       [-5.39819412e-02,  2.95561492e-01, -1.38709426e-01,\n",
       "         4.31643799e-02, -1.10181468e-02, -2.11453915e-01,\n",
       "        -8.13956112e-02,  1.01756498e-01,  6.68790862e-02,\n",
       "        -5.71196899e-02, -1.73523515e-01,  6.01506978e-02,\n",
       "        -2.94948649e-02, -5.27778408e-03, -6.81077912e-02,\n",
       "         1.16273947e-01],\n",
       "       [ 3.32161486e-01, -2.43822783e-01, -9.96734500e-02,\n",
       "         7.76642263e-02,  2.90118724e-01,  2.42427543e-01,\n",
       "         2.33022064e-01,  2.11704560e-02, -2.09867924e-01,\n",
       "         3.77826780e-01,  1.67415187e-01,  2.62524396e-01,\n",
       "         1.37364909e-01,  2.32901111e-01,  2.45928438e-03,\n",
       "        -1.29253730e-01],\n",
       "       [ 2.61593103e-01,  8.74683820e-03, -5.47641376e-03,\n",
       "         6.47965610e-01,  6.61056995e-01,  1.20090961e-01,\n",
       "        -2.19860986e-01, -6.29559219e-01,  6.25232875e-01,\n",
       "         5.88274598e-01, -1.37064934e+00,  1.83036715e-01,\n",
       "         5.89338899e-01,  3.33863318e-01, -7.39702344e-01,\n",
       "        -5.49246371e-01],\n",
       "       [-6.59739003e-02, -1.91235859e-02, -2.60008313e-03,\n",
       "        -7.84094557e-02, -7.67692104e-02,  1.54938987e-02,\n",
       "         3.87314893e-02, -3.48002254e-03, -7.69448802e-02,\n",
       "        -7.02744871e-02,  9.84728057e-03, -2.93026951e-05,\n",
       "        -6.44188747e-02, -7.52059296e-02, -3.54171917e-02,\n",
       "        -1.41992746e-02],\n",
       "       [ 2.75218517e-01, -2.36557797e-01, -3.51739526e-01,\n",
       "         1.79902706e-02,  1.58945352e-01,  2.60651559e-01,\n",
       "         4.20076132e-01, -2.84920394e-01,  1.31012216e-01,\n",
       "         3.78407210e-01, -3.54771495e-01, -1.29069880e-01,\n",
       "         1.53684780e-01,  1.89174712e-01, -5.94025910e-01,\n",
       "        -5.79263806e-01],\n",
       "       [-1.57548767e-03, -1.76096782e-01,  1.03582658e-01,\n",
       "        -4.47074585e-02,  8.68211612e-02, -4.31889808e-03,\n",
       "         3.94657068e-02, -9.65511054e-03, -1.62111402e-01,\n",
       "        -1.08975805e-01,  2.07396150e-02, -5.94348721e-02,\n",
       "         2.41673013e-04,  5.53072169e-02, -1.92653239e-01,\n",
       "        -1.07948491e-02],\n",
       "       [ 6.12659752e-01,  2.29122907e-01, -2.09338233e-01,\n",
       "         4.00617868e-01,  5.25127053e-01, -4.17102307e-01,\n",
       "        -3.22952181e-01, -1.46979779e-01,  3.19322586e-01,\n",
       "         4.62366119e-02, -7.36155629e-01, -9.95833278e-02,\n",
       "         1.21820733e-01,  9.92774963e-02, -2.41689920e-01,\n",
       "        -4.34634447e-01],\n",
       "       [ 3.09001476e-01,  2.23991066e-01, -2.75676399e-01,\n",
       "         2.07199469e-01,  3.40190887e-01,  4.57812771e-02,\n",
       "         1.78569227e-01,  3.57508093e-01,  4.10409808e-01,\n",
       "         1.22968629e-01, -4.17792127e-02, -6.75853640e-02,\n",
       "         2.48838320e-01,  1.83904409e-01,  4.10059750e-01,\n",
       "         3.75006467e-01],\n",
       "       [-8.02134536e-03, -1.85232304e-04, -3.23524699e-02,\n",
       "        -1.19675688e-01,  1.26804486e-01, -7.28793815e-02,\n",
       "        -1.63430218e-06,  2.91656330e-03, -2.02776343e-01,\n",
       "         6.94094226e-03,  3.86109352e-02, -1.50743574e-01,\n",
       "         1.06172338e-01, -4.30456735e-03,  6.28672788e-05,\n",
       "        -1.46392151e-03],\n",
       "       [ 2.13705182e-01,  8.54858905e-02, -5.69661148e-02,\n",
       "         3.47610891e-01,  1.14282146e-01, -3.13971817e-01,\n",
       "         1.20272487e-01, -1.84198052e-01,  3.03916901e-01,\n",
       "         3.82878214e-01, -1.70023814e-01, -1.20282963e-01,\n",
       "         2.06592739e-01,  4.01898980e-01, -1.52661011e-01,\n",
       "        -2.99642861e-01],\n",
       "       [-2.95873433e-02,  8.58570039e-02,  1.95182756e-01,\n",
       "         1.96227521e-01, -7.41501749e-02,  2.42241487e-01,\n",
       "        -9.34476703e-02,  3.55324984e-01,  2.35039201e-02,\n",
       "        -2.37034801e-02,  4.27615881e-01, -2.91476339e-01,\n",
       "        -1.28387883e-01, -2.46158198e-01,  6.50454611e-02,\n",
       "        -1.13367103e-01],\n",
       "       [ 1.12675078e-01,  8.53260309e-02,  1.03219345e-01,\n",
       "         3.77610296e-01,  3.49602759e-01,  4.67524052e-01,\n",
       "        -7.11378872e-01,  2.34964341e-01,  4.64348882e-01,\n",
       "         1.86958894e-01,  6.50535524e-02, -3.47608775e-02,\n",
       "         3.57503831e-01,  3.83896291e-01, -7.39718974e-02,\n",
       "         3.72114092e-01],\n",
       "       [-1.03345118e-01, -2.17658207e-01,  1.13613727e-31,\n",
       "        -3.39309633e-01, -2.09833220e-01, -3.69326435e-02,\n",
       "         4.21456456e-01,  1.94259048e-01, -5.73235869e-01,\n",
       "        -2.70949215e-01,  4.62474585e-01, -6.25216588e-02,\n",
       "        -2.75752366e-01, -2.66134202e-01,  1.76405549e-01,\n",
       "         4.32375312e-01],\n",
       "       [ 2.26651236e-01,  4.67046052e-02, -2.82322705e-01,\n",
       "        -2.87373573e-01,  3.96015406e-01, -1.59461070e-02,\n",
       "         4.17688712e-02, -9.55694795e-01,  3.75306934e-01,\n",
       "         2.07260057e-01, -3.45471203e-01,  1.26052737e-01,\n",
       "        -1.69331487e-02, -1.25693217e-01, -1.79154694e-01,\n",
       "         6.80693910e-02],\n",
       "       [ 9.91277955e-03,  1.53017879e-01, -5.59538864e-02,\n",
       "         3.39525789e-01,  4.18457568e-01,  6.07133321e-02,\n",
       "        -1.87648926e-03, -1.63686439e-01,  5.63497722e-01,\n",
       "         3.17715257e-01, -4.68414068e-01, -1.22820370e-01,\n",
       "         5.39563119e-01,  2.38178134e-01, -1.97591037e-01,\n",
       "        -1.27554104e-01],\n",
       "       [ 2.36255258e-01, -1.79306209e-01, -1.04683273e-01,\n",
       "         4.46065962e-01,  2.34101057e-01,  3.09335023e-01,\n",
       "        -6.96216449e-02,  2.28797391e-01,  5.92104316e-01,\n",
       "         5.45930505e-01,  1.95701912e-01, -5.59457615e-02,\n",
       "         6.40059114e-01,  4.54870552e-01,  9.83284116e-02,\n",
       "         4.21088099e-01]], dtype=float32), 'bias': array([ 0.15468621, -0.08571887, -0.0612665 ,  0.02302623,  0.13826327,\n",
       "       -0.33696693, -0.0207672 ,  0.18480499,  0.12009706, -0.06601357,\n",
       "        0.11138333, -0.0646986 ,  0.42121962,  0.12275953,  0.13274752,\n",
       "        0.24850237], dtype=float32)}, 'Dense_3': {'kernel': array([[-0.44104862],\n",
       "       [-0.06521665],\n",
       "       [ 0.14988683],\n",
       "       [-0.6963424 ],\n",
       "       [-0.5567984 ],\n",
       "       [-0.6748782 ],\n",
       "       [ 0.4171519 ],\n",
       "       [ 0.62342244],\n",
       "       [-0.6246553 ],\n",
       "       [-0.5833417 ],\n",
       "       [ 0.78563535],\n",
       "       [ 0.12821795],\n",
       "       [-0.4032208 ],\n",
       "       [-0.5016127 ],\n",
       "       [ 0.6088364 ],\n",
       "       [ 0.38053197]], dtype=float32), 'bias': array([-0.13791522], dtype=float32)}})"
      ]
     },
     "execution_count": 35,
     "metadata": {},
     "output_type": "execute_result"
    }
   ],
   "source": [
    "key = jax.random.PRNGKey(0)\n",
    "_, initial_params = NN.init(key, np.zeros((10, 3)))\n",
    "    \n",
    "model = nn.Model(NN, initial_params)\n",
    "    \n",
    "adam = optim.Adam(learning_rate=0.003)\n",
    "optimizer = adam.create(model)\n",
    "    \n",
    "state = TrainState(optimizer=optimizer)\n",
    "\n",
    "re, im, ch = 41.0, 1.5, 250\n",
    "\n",
    "with open('nn_model_3d_test_fit.dat', 'rb') as f:\n",
    "    data = f.read()\n",
    "        \n",
    "restored_state = flax.serialization.from_bytes(state, data)\n",
    "jax.tree_map(np.shape, flax.serialization.to_state_dict(restored_state))\n",
    "        \n",
    "model = nn.Model(NN, initial_params)\n",
    "for layer in range(4):\n",
    "    model.params[f'Dense_{layer}'] =\\\n",
    "        restored_state.optimizer.state_dict()['target']['params'][f'Dense_{layer}']\n",
    "# model.replace(params=restored_state.optimizer.state_dict()['target']['params'])\n",
    "\n",
    "# model.params['Dense_0']['bias'] = restored_state.optimizer.state_dict()['target']['params']['Dense_0']['bias']\n",
    "# model.params['Dense_1']['bias'] = restored_state.optimizer.state_dict()['target']['params']['Dense_1']['bias']\n",
    "# model.params['Dense_2']['bias'] = restored_state.optimizer.state_dict()['target']['params']['Dense_2']['bias']\n",
    "# model.params['Dense_3']['bias'] = restored_state.optimizer.state_dict()['target']['params']['Dense_3']['bias']\n",
    "model"
   ]
  },
  {
   "cell_type": "code",
   "execution_count": 17,
   "metadata": {},
   "outputs": [
    {
     "data": {
      "text/plain": [
       "array([-0.46778986,  0.00631779, -0.44759795,  0.4032421 , -0.14800762,\n",
       "       -0.2001644 ,  0.26138556,  0.34213755,  0.19778767,  0.33549732,\n",
       "        0.03916249,  0.43231016,  0.36005804, -0.12160145,  0.02852632,\n",
       "        0.41965154,  0.3056653 ,  0.31777576, -0.16221349,  0.03649598,\n",
       "       -0.50882846,  0.3779648 , -0.17226678,  0.27849638, -0.5206198 ,\n",
       "       -0.042453  ,  0.5651632 ,  0.3286103 , -1.08407   ,  0.41874903,\n",
       "        0.02384321, -0.30081114], dtype=float32)"
      ]
     },
     "execution_count": 17,
     "metadata": {},
     "output_type": "execute_result"
    }
   ],
   "source": [
    "restored_state.optimizer.state_dict()['target']['params']['Dense_0']['bias']"
   ]
  },
  {
   "cell_type": "code",
   "execution_count": 36,
   "metadata": {},
   "outputs": [],
   "source": [
    "def uniform_sample(rg, limits, N):\n",
    "    \"\"\" \"\"\"\n",
    "    lo = [x[0] for x in limits]\n",
    "    hi = [x[1] for x in limits]\n",
    "    return rg.uniform(lo, hi, (N, len(limits)))"
   ]
  },
  {
   "cell_type": "code",
   "execution_count": 37,
   "metadata": {},
   "outputs": [],
   "source": [
    "def norm_sample(rg, samp, mult=10):\n",
    "    norm_size = mult*samp.shape[0]\n",
    "    limits = [[np.min(samp[:, i]), np.max(samp[:, i])] for i in range(samp.shape[1])]\n",
    "    return uniform_sample(rg, limits, norm_size)"
   ]
  },
  {
   "cell_type": "code",
   "execution_count": 38,
   "metadata": {},
   "outputs": [],
   "source": [
    "def smeared_samp_file(re, im, ch):\n",
    "    return f'mc_ddpip_3d_gs{re:.2f}_{im:.2f}_ch{ch}_smeared.npy'"
   ]
  },
  {
   "cell_type": "code",
   "execution_count": 39,
   "metadata": {},
   "outputs": [],
   "source": [
    "def get_sample(re, im, ch):\n",
    "    return get_vars(np.load(os.path.join(path_data, smeared_samp_file(re, im, ch))))"
   ]
  },
  {
   "cell_type": "code",
   "execution_count": 47,
   "metadata": {},
   "outputs": [],
   "source": [
    "def norm_file(re, im, ch):\n",
    "    return f'norm_gs{re:.2f}_{im:.2f}_ch{ch}.npz'"
   ]
  },
  {
   "cell_type": "code",
   "execution_count": 48,
   "metadata": {},
   "outputs": [],
   "source": [
    "def get_norm(re, im, ch):\n",
    "    fname = os.path.join(path_models, norm_file(re, im, ch))\n",
    "    if not os.path.isfile(fname):\n",
    "        print('get_norm: {fname} not found')\n",
    "    ndata = np.load(fname)\n",
    "    return (ndata['mean'], ndata['std'])"
   ]
  },
  {
   "cell_type": "code",
   "execution_count": 44,
   "metadata": {},
   "outputs": [
    {
     "data": {
      "text/plain": [
       "(10000, 3)"
      ]
     },
     "execution_count": 44,
     "metadata": {},
     "output_type": "execute_result"
    }
   ],
   "source": [
    "smpl = get_sample(41, 1.5, 250)[:10000]\n",
    "smpl.shape"
   ]
  },
  {
   "cell_type": "code",
   "execution_count": 45,
   "metadata": {},
   "outputs": [
    {
     "data": {
      "text/plain": [
       "(100000, 3)"
      ]
     },
     "execution_count": 45,
     "metadata": {},
     "output_type": "execute_result"
    }
   ],
   "source": [
    "rg = onp.random.Generator(onp.random.PCG64())\n",
    "norm_smpl = norm_sample(rg, smpl)\n",
    "norm_smpl.shape"
   ]
  },
  {
   "cell_type": "code",
   "execution_count": 46,
   "metadata": {},
   "outputs": [
    {
     "data": {
      "image/png": "[encoded data removed]",
      "text/plain": [
       "<Figure size 1008x324 with 3 Axes>"
      ]
     },
     "metadata": {
      "needs_background": "light"
     },
     "output_type": "display_data"
    }
   ],
   "source": [
    "fig, ax = plt.subplots(ncols=3, figsize=(14, 4.5))\n",
    "draw_1d_projections(ax, smpl, bins=250, weights=None)"
   ]
  },
  {
   "cell_type": "code",
   "execution_count": 49,
   "metadata": {},
   "outputs": [],
   "source": [
    "means = onp.array([1.8590932, 56.122078, 2.0097547])\n",
    "stds = onp.array([2.8228464, 32.606438, 0.00137304])"
   ]
  },
  {
   "cell_type": "code",
   "execution_count": 50,
   "metadata": {},
   "outputs": [],
   "source": [
    "norm_norm_smpl = onp.empty(norm_smpl.shape)\n",
    "for i in range(3):\n",
    "    norm_norm_smpl[:, i] = (norm_smpl[:, i] - means[i]) / stds[i]"
   ]
  },
  {
   "cell_type": "code",
   "execution_count": 51,
   "metadata": {},
   "outputs": [
    {
     "data": {
      "image/png": "[encoded data removed]",
      "text/plain": [
       "<Figure size 1008x324 with 3 Axes>"
      ]
     },
     "metadata": {
      "needs_background": "light"
     },
     "output_type": "display_data"
    }
   ],
   "source": [
    "fig, ax = plt.subplots(ncols=3, figsize=(14, 4.5))\n",
    "draw_1d_projections(ax, norm_norm_smpl, bins=250, weights=None)"
   ]
  },
  {
   "cell_type": "code",
   "execution_count": 54,
   "metadata": {},
   "outputs": [
    {
     "data": {
      "text/plain": [
       "(100000, 1)"
      ]
     },
     "execution_count": 54,
     "metadata": {},
     "output_type": "execute_result"
    }
   ],
   "source": [
    "w = model(norm_norm_smpl)\n",
    "w.shape"
   ]
  },
  {
   "cell_type": "code",
   "execution_count": 56,
   "metadata": {},
   "outputs": [
    {
     "data": {
      "image/png": "[encoded data removed]",
      "text/plain": [
       "<Figure size 1008x324 with 3 Axes>"
      ]
     },
     "metadata": {
      "needs_background": "light"
     },
     "output_type": "display_data"
    }
   ],
   "source": [
    "fig, ax = plt.subplots(ncols=3, figsize=(14, 4.5))\n",
    "draw_1d_projections(ax, norm_norm_smpl, bins=150, weights=w.flatten())"
   ]
  },
  {
   "cell_type": "code",
   "execution_count": null,
   "metadata": {},
   "outputs": [],
   "source": []
  }
 ],
 "metadata": {
  "kernelspec": {
   "display_name": "Python 3",
   "language": "python",
   "name": "python3"
  },
  "language_info": {
   "codemirror_mode": {
    "name": "ipython",
    "version": 3
   },
   "file_extension": ".py",
   "mimetype": "text/x-python",
   "name": "python",
   "nbconvert_exporter": "python",
   "pygments_lexer": "ipython3",
   "version": "3.8.3"
  }
 },
 "nbformat": 4,
 "nbformat_minor": 4
}
