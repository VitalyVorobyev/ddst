{
 "cells": [
  {
   "cell_type": "markdown",
   "metadata": {},
   "source": [
    "# 3D convolution fit"
   ]
  },
  {
   "cell_type": "code",
   "execution_count": 1,
   "metadata": {},
   "outputs": [],
   "source": [
    "import numpy as np\n",
    "import matplotlib.pyplot as plt\n",
    "import matplotlib\n",
    "# print([k for k in matplotlib.rcParams.keys() if 'font' in k])\n",
    "matplotlib.rcParams.update({'font.size': 16})"
   ]
  },
  {
   "cell_type": "code",
   "execution_count": 2,
   "metadata": {},
   "outputs": [],
   "source": [
    "path_data = './mcsamples'"
   ]
  },
  {
   "cell_type": "code",
   "execution_count": 45,
   "metadata": {},
   "outputs": [],
   "source": [
    "from lib.dndnpip import DnDnPip\n",
    "from lib import resolution as res\n",
    "from lib.params import mdn, mpip, mdstp\n",
    "from lib.dalitzphsp import Kibble"
   ]
  },
  {
   "cell_type": "code",
   "execution_count": 72,
   "metadata": {},
   "outputs": [],
   "source": [
    "from scipy.signal import windows, fftconvolve\n",
    "import itertools"
   ]
  },
  {
   "cell_type": "code",
   "execution_count": 5,
   "metadata": {},
   "outputs": [],
   "source": [
    "import os"
   ]
  },
  {
   "cell_type": "code",
   "execution_count": 6,
   "metadata": {},
   "outputs": [],
   "source": [
    "def get_vars(data):\n",
    "    \"\"\" (E, m^2(DD), m^2(D0pi+)) (GeV) -> (E, p(D), m(D0pi+)) (MeV) \"\"\"\n",
    "    e, mddsq, md1pisq = [data[:,i] for i in range(3)]\n",
    "    tdd = (np.sqrt(mddsq) - 2*mdn)*10**3\n",
    "    mask = tdd > 0\n",
    "    pd = np.sqrt(np.clip(tdd, 0, None) * mdn * 10**3)\n",
    "    md1pi = np.sqrt(md1pisq) * 10**3\n",
    "    return np.column_stack([e[mask], pd[mask], md1pi[mask]])\n",
    "\n",
    "def sample_fname(re, im ,ch):\n",
    "    \"\"\" Smeared toy MC data set file name \"\"\"\n",
    "    fname = os.path.join(path_data, f'mc_ddpip_3d_gs{re:.2f}_{im:.2f}_ch{ch}_smeared.npy')\n",
    "    if os.path.isfile(fname):\n",
    "        return fname\n",
    "    print(f'file {fname} not found')\n",
    "    return None\n",
    "    \n",
    "def get_sample(re, im, ch, nevt):\n",
    "    \"\"\" Load smeared toy MC data set \"\"\"\n",
    "    fname = sample_fname(re, im, ch)\n",
    "    if fname:\n",
    "        return get_vars(np.load(fname))[:nevt]\n",
    "    else:\n",
    "        return None"
   ]
  },
  {
   "cell_type": "code",
   "execution_count": 85,
   "metadata": {},
   "outputs": [],
   "source": [
    "def vars_to_mandelstam(data):\n",
    "    \"\"\" data is (E, p(D), m(Dpi+)) -> (s, m^2(DD), m^2(Dpi+)) \"\"\"\n",
    "    return np.column_stack([\n",
    "        (data[:,0]*10**-3 + mdn + mdstp)**2,  # s\n",
    "        (data[:,1]*10**-6 / mdn + 2*mdn)**2,  # m^2(DD)\n",
    "        (data[:,2]*10**-3)**2                 # m^2(Dpi+)\n",
    "    ])"
   ]
  },
  {
   "cell_type": "code",
   "execution_count": 7,
   "metadata": {},
   "outputs": [],
   "source": [
    "def var_labels():\n",
    "    return (r'$E (MeV)$', r'$p(D^0)$ (MeV)', r'$m(D^0pi^+)$ (MeV)')"
   ]
  },
  {
   "cell_type": "code",
   "execution_count": 8,
   "metadata": {},
   "outputs": [],
   "source": [
    "def draw_pdf_projections(ax, x, f, alpha=None, label=None):\n",
    "    \"\"\" Plot 1D projection of 3D PDF given it's values for a regular 3D meshgrid \"\"\"\n",
    "    labels = var_labels()\n",
    "    projs = [f.sum(axis=atup) for atup in [(1,2), (0,2), (0,1)]]\n",
    "    for idx, (lbl, xi, pro) in enumerate(zip(labels, x, projs)):\n",
    "        ax[idx].plot(xi, pro, alpha=alpha, label=label);\n",
    "        if label:\n",
    "            ax[idx].legend()\n",
    "        ax[idx].grid()\n",
    "        ax[idx].set_xlabel(lbl)"
   ]
  },
  {
   "cell_type": "code",
   "execution_count": 9,
   "metadata": {},
   "outputs": [],
   "source": [
    "def draw_1d_projections(ax, data, bins=250, weights=None, alpha=None, density=False, lims=None, label=None):\n",
    "    \"\"\" Plot 1D projections fiven 3D toy MC events \"\"\"\n",
    "    if not lims:\n",
    "        lims = [(-3, 10), (0, 150), (2004, 2016)]\n",
    "    labels = var_labels()\n",
    "    for idx, (lbl, l) in enumerate(zip(labels, lims)):\n",
    "        ax[idx].hist(data[:,idx], bins=bins, weights=weights, alpha=alpha, density=density, range=l, label=label);\n",
    "        if label:\n",
    "            ax[idx].legend()\n",
    "        ax[idx].grid()\n",
    "        ax[idx].set_xlabel(lbl)"
   ]
  },
  {
   "cell_type": "code",
   "execution_count": 10,
   "metadata": {},
   "outputs": [],
   "source": [
    "samp = get_sample(41, 1.5, 250, 5000)"
   ]
  },
  {
   "cell_type": "code",
   "execution_count": 11,
   "metadata": {},
   "outputs": [
    {
     "data": {
      "image/png": "[encoded data removed]",
      "text/plain": [
       "<Figure size 1008x324 with 3 Axes>"
      ]
     },
     "metadata": {
      "needs_background": "light"
     },
     "output_type": "display_data"
    }
   ],
   "source": [
    "fig, ax = plt.subplots(ncols=3, figsize=(14, 4.5))\n",
    "draw_1d_projections(ax, samp, bins=50)\n",
    "fig.tight_layout()"
   ]
  },
  {
   "cell_type": "code",
   "execution_count": 12,
   "metadata": {},
   "outputs": [],
   "source": [
    "def get_resolution(e, pd):\n",
    "    return (res.smddpi2(e / 10**3, pd / 10**3)*10**3, res.spd()*10**3, res.smdstp()*10**3)"
   ]
  },
  {
   "cell_type": "code",
   "execution_count": 13,
   "metadata": {},
   "outputs": [
    {
     "name": "stderr",
     "output_type": "stream",
     "text": [
      "/home/vitaly/miniconda3/envs/tf2/lib/python3.8/site-packages/jax/lib/xla_bridge.py:125: UserWarning: No GPU/TPU found, falling back to CPU.\n",
      "  warnings.warn('No GPU/TPU found, falling back to CPU.')\n"
     ]
    },
    {
     "data": {
      "text/plain": [
       "array([0.3246835, 5.7982755, 0.3598127], dtype=float32)"
      ]
     },
     "execution_count": 13,
     "metadata": {},
     "output_type": "execute_result"
    }
   ],
   "source": [
    "np.array(get_resolution(-5, 100))"
   ]
  },
  {
   "cell_type": "markdown",
   "metadata": {},
   "source": [
    "Energy resolution contours"
   ]
  },
  {
   "cell_type": "code",
   "execution_count": 14,
   "metadata": {},
   "outputs": [
    {
     "data": {
      "image/png": "[encoded data removed]",
      "text/plain": [
       "<Figure size 612x504 with 2 Axes>"
      ]
     },
     "metadata": {
      "needs_background": "light"
     },
     "output_type": "display_data"
    }
   ],
   "source": [
    "fig, ax = plt.subplots(figsize=(8.5, 7))\n",
    "vg = np.meshgrid(\n",
    "    np.linspace(-6, 10, 50),\n",
    "    np.linspace(0, 150, 50)\n",
    ")\n",
    "cf = ax.contourf(*vg, get_resolution(*vg)[0], levels=15)\n",
    "fig.colorbar(cf)\n",
    "\n",
    "fig.tight_layout()"
   ]
  },
  {
   "cell_type": "code",
   "execution_count": 15,
   "metadata": {},
   "outputs": [],
   "source": [
    "def make_3d_window(e, pd, mdpi, ndots=50, nsigma=4):\n",
    "    \"\"\" 3D Gaussian resolution window \"\"\"\n",
    "    gw1d = windows.gaussian(ndots, nsigma)\n",
    "    sige, sigpd, sigmdpi = get_resolution(e, pd)\n",
    "    return np.einsum(\n",
    "        'i,j,k->ijk',\n",
    "        gw1d * sige,\n",
    "        gw1d * sigpd,\n",
    "        gw1d * sigmdpi\n",
    "    )"
   ]
  },
  {
   "cell_type": "code",
   "execution_count": 16,
   "metadata": {},
   "outputs": [],
   "source": [
    "def local_grid(e, pd, mdpi, ndots=100, nsigma=7):\n",
    "    \"\"\" 3D grid around a point within the given number of sigmas \"\"\"\n",
    "    sige, sigpd, sigmdpi = get_resolution(e, pd)\n",
    "    lsp = np.linspace(-1, 1, ndots)\n",
    "    x = [lsp * sige + e, lsp * sigpd + pd, lsp * sigmdpi + mdpi]\n",
    "    return (x, np.meshgrid(*x))"
   ]
  },
  {
   "cell_type": "code",
   "execution_count": 17,
   "metadata": {},
   "outputs": [],
   "source": [
    "# signal.fftconvolve(face, kernel, mode='same')"
   ]
  },
  {
   "cell_type": "code",
   "execution_count": 116,
   "metadata": {},
   "outputs": [
    {
     "data": {
      "text/plain": [
       "(100, 100, 100)"
      ]
     },
     "execution_count": 116,
     "metadata": {},
     "output_type": "execute_result"
    }
   ],
   "source": [
    "x, lgrid = local_grid(-1, 2., 2011)\n",
    "lgrid[0].shape"
   ]
  },
  {
   "cell_type": "code",
   "execution_count": 117,
   "metadata": {},
   "outputs": [
    {
     "data": {
      "text/plain": [
       "(1000000, 3)"
      ]
     },
     "execution_count": 117,
     "metadata": {},
     "output_type": "execute_result"
    }
   ],
   "source": [
    "lgrid2 = np.array(list(itertools.product(*x)))\n",
    "lgrid2.shape"
   ]
  },
  {
   "cell_type": "code",
   "execution_count": 118,
   "metadata": {},
   "outputs": [
    {
     "data": {
      "text/plain": [
       "(1000000, 3)"
      ]
     },
     "execution_count": 118,
     "metadata": {},
     "output_type": "execute_result"
    }
   ],
   "source": [
    "mand = vars_to_mandelstam(lgrid2)\n",
    "mand.shape"
   ]
  },
  {
   "cell_type": "code",
   "execution_count": 119,
   "metadata": {},
   "outputs": [
    {
     "data": {
      "text/plain": [
       "array([[15.006388 , 13.910498 ,  4.0426736],\n",
       "       [15.006388 , 13.910498 ,  4.0427036],\n",
       "       [15.006388 , 13.910498 ,  4.042733 ]], dtype=float32)"
      ]
     },
     "execution_count": 119,
     "metadata": {},
     "output_type": "execute_result"
    }
   ],
   "source": [
    "mand[:3]"
   ]
  },
  {
   "cell_type": "code",
   "execution_count": 120,
   "metadata": {},
   "outputs": [
    {
     "data": {
      "text/plain": [
       "False"
      ]
     },
     "execution_count": 120,
     "metadata": {},
     "output_type": "execute_result"
    }
   ],
   "source": [
    "isin = Kibble(mand[:,0], mand[:,1], mand[:,2], mdn**2, mdn**2, mpip**2)\n",
    "np.any(isin)"
   ]
  },
  {
   "cell_type": "code",
   "execution_count": 77,
   "metadata": {},
   "outputs": [
    {
     "data": {
      "text/plain": [
       "True"
      ]
     },
     "execution_count": 77,
     "metadata": {},
     "output_type": "execute_result"
    }
   ],
   "source": [
    "np.allclose(lgrid[2], lgrid2[:,2].reshape(100,100,100))"
   ]
  },
  {
   "cell_type": "code",
   "execution_count": 64,
   "metadata": {},
   "outputs": [
    {
     "name": "stdout",
     "output_type": "stream",
     "text": [
      "[-1.3034654 -1.2973348 -1.2912042] [-0.70879585 -0.7026652  -0.69653463]\n",
      "[14.201725 14.318861 14.435998] [25.564003 25.681139 25.798275]\n",
      "[2009.6401 2009.6475 2009.6548] [2010.3452 2010.3525 2010.3599]\n"
     ]
    }
   ],
   "source": [
    "print(x[0][:3], x[0][-3:])\n",
    "print(x[1][:3], x[1][-3:])\n",
    "print(x[2][:3], x[2][-3:])"
   ]
  },
  {
   "cell_type": "code",
   "execution_count": 81,
   "metadata": {},
   "outputs": [
    {
     "data": {
      "image/png": "[encoded data removed]",
      "text/plain": [
       "<Figure size 1008x324 with 3 Axes>"
      ]
     },
     "metadata": {
      "needs_background": "light"
     },
     "output_type": "display_data"
    }
   ],
   "source": [
    "fig, ax = plt.subplots(ncols=3, nrows=1, figsize=(14, 4.5))\n",
    "lg = lgrid2.reshape(100,100,100,3)\n",
    "ax[0].plot(lg[:,:,:,0].sum(axis=(1,2))/10**4)\n",
    "ax[1].plot(lg[:,:,:,1].sum(axis=(0,2))/10**4)\n",
    "ax[2].plot(lg[:,:,:,2].sum(axis=(0,1))/10**4)\n",
    "fig.tight_layout()"
   ]
  },
  {
   "cell_type": "code",
   "execution_count": null,
   "metadata": {},
   "outputs": [],
   "source": [
    "def inphsp(data):\n",
    "    Kibble(15.006388, 13.910506, 4.038654, mdn**2, mdn**2, mpip**2)"
   ]
  },
  {
   "cell_type": "code",
   "execution_count": null,
   "metadata": {},
   "outputs": [],
   "source": [
    "fig, ax = plt.subplots(ncols=2, nrows=1, figsize=(14, 7.5))\n",
    "lg = lgrid2.reshape(100,100,100,3)\n",
    "\n",
    "ax[0].plot(lg[:,:,:,0])\n",
    "ax[1].plot(lg[:,:,:,0])\n",
    "fig.tight_layout()"
   ]
  },
  {
   "cell_type": "code",
   "execution_count": 32,
   "metadata": {},
   "outputs": [
    {
     "data": {
      "text/plain": [
       "([-1.2977278, -1.7982755, 2009.6401], [-0.7022721, 9.798275, 2010.3599])"
      ]
     },
     "execution_count": 32,
     "metadata": {},
     "output_type": "execute_result"
    }
   ],
   "source": [
    "list(map(min, x)), list(map(max, x))"
   ]
  },
  {
   "cell_type": "code",
   "execution_count": 33,
   "metadata": {},
   "outputs": [],
   "source": [
    "pdf = DnDnPip(41, 1.5)"
   ]
  },
  {
   "cell_type": "code",
   "execution_count": 34,
   "metadata": {},
   "outputs": [],
   "source": [
    "def grid_pdf(pdf, lgrid):\n",
    "    return pdf.pdf_vars(\n",
    "        lgrid[0].flatten(),\n",
    "        lgrid[1].flatten(),\n",
    "        lgrid[2].flatten()\n",
    "    ).reshape(lgrid[0].shape)"
   ]
  },
  {
   "cell_type": "code",
   "execution_count": 35,
   "metadata": {},
   "outputs": [
    {
     "name": "stdout",
     "output_type": "stream",
     "text": [
      "Help on function Kibble in module lib.dalitzphsp:\n",
      "\n",
      "Kibble(s, s3, s2, m1sq, m2sq, m3sq)\n",
      "    If inside Dalitz phase space\n",
      "\n"
     ]
    }
   ],
   "source": [
    "help(Kibble)"
   ]
  },
  {
   "cell_type": "code",
   "execution_count": 39,
   "metadata": {},
   "outputs": [
    {
     "data": {
      "text/plain": [
       "False"
      ]
     },
     "execution_count": 39,
     "metadata": {},
     "output_type": "execute_result"
    }
   ],
   "source": [
    "Kibble(15.006388, 13.910506, 4.038654, mdn**2, mdn**2, mpip**2)"
   ]
  },
  {
   "cell_type": "code",
   "execution_count": 44,
   "metadata": {},
   "outputs": [
    {
     "data": {
      "text/plain": [
       "5.153128898029324"
      ]
     },
     "execution_count": 44,
     "metadata": {},
     "output_type": "execute_result"
    }
   ],
   "source": [
    "(np.sqrt(15.011001) - 2*mdn - mpip) * 10**3"
   ]
  },
  {
   "cell_type": "code",
   "execution_count": 43,
   "metadata": {},
   "outputs": [
    {
     "data": {
      "text/plain": [
       "0.005241411130008089"
      ]
     },
     "execution_count": 43,
     "metadata": {},
     "output_type": "execute_result"
    }
   ],
   "source": [
    "(np.sqrt(13.910552) - 2*mdn) * 10**3"
   ]
  },
  {
   "cell_type": "code",
   "execution_count": 38,
   "metadata": {},
   "outputs": [
    {
     "name": "stdout",
     "output_type": "stream",
     "text": [
      "15.006388 15.011001\n",
      "13.910506 13.910552\n",
      "4.038654 4.0415473\n"
     ]
    },
    {
     "ename": "AssertionError",
     "evalue": "",
     "output_type": "error",
     "traceback": [
      "\u001b[0;31m---------------------------------------------------------------------------\u001b[0m",
      "\u001b[0;31mAssertionError\u001b[0m                            Traceback (most recent call last)",
      "\u001b[0;32m<ipython-input-38-aebda6a22700>\u001b[0m in \u001b[0;36m<module>\u001b[0;34m\u001b[0m\n\u001b[0;32m----> 1\u001b[0;31m \u001b[0mf\u001b[0m \u001b[0;34m=\u001b[0m \u001b[0mgrid_pdf\u001b[0m\u001b[0;34m(\u001b[0m\u001b[0mpdf\u001b[0m\u001b[0;34m,\u001b[0m \u001b[0mlgrid\u001b[0m\u001b[0;34m)\u001b[0m\u001b[0;34m\u001b[0m\u001b[0;34m\u001b[0m\u001b[0m\n\u001b[0m\u001b[1;32m      2\u001b[0m \u001b[0mf\u001b[0m\u001b[0;34m.\u001b[0m\u001b[0mshape\u001b[0m\u001b[0;34m\u001b[0m\u001b[0;34m\u001b[0m\u001b[0m\n",
      "\u001b[0;32m<ipython-input-34-46cf3ad0babc>\u001b[0m in \u001b[0;36mgrid_pdf\u001b[0;34m(pdf, lgrid)\u001b[0m\n\u001b[1;32m      1\u001b[0m \u001b[0;32mdef\u001b[0m \u001b[0mgrid_pdf\u001b[0m\u001b[0;34m(\u001b[0m\u001b[0mpdf\u001b[0m\u001b[0;34m,\u001b[0m \u001b[0mlgrid\u001b[0m\u001b[0;34m)\u001b[0m\u001b[0;34m:\u001b[0m\u001b[0;34m\u001b[0m\u001b[0;34m\u001b[0m\u001b[0m\n\u001b[0;32m----> 2\u001b[0;31m     return pdf.pdf_vars(\n\u001b[0m\u001b[1;32m      3\u001b[0m         \u001b[0mlgrid\u001b[0m\u001b[0;34m[\u001b[0m\u001b[0;36m0\u001b[0m\u001b[0;34m]\u001b[0m\u001b[0;34m.\u001b[0m\u001b[0mflatten\u001b[0m\u001b[0;34m(\u001b[0m\u001b[0;34m)\u001b[0m\u001b[0;34m,\u001b[0m\u001b[0;34m\u001b[0m\u001b[0;34m\u001b[0m\u001b[0m\n\u001b[1;32m      4\u001b[0m         \u001b[0mlgrid\u001b[0m\u001b[0;34m[\u001b[0m\u001b[0;36m1\u001b[0m\u001b[0;34m]\u001b[0m\u001b[0;34m.\u001b[0m\u001b[0mflatten\u001b[0m\u001b[0;34m(\u001b[0m\u001b[0;34m)\u001b[0m\u001b[0;34m,\u001b[0m\u001b[0;34m\u001b[0m\u001b[0;34m\u001b[0m\u001b[0m\n\u001b[1;32m      5\u001b[0m         \u001b[0mlgrid\u001b[0m\u001b[0;34m[\u001b[0m\u001b[0;36m2\u001b[0m\u001b[0;34m]\u001b[0m\u001b[0;34m.\u001b[0m\u001b[0mflatten\u001b[0m\u001b[0;34m(\u001b[0m\u001b[0;34m)\u001b[0m\u001b[0;34m\u001b[0m\u001b[0;34m\u001b[0m\u001b[0m\n",
      "\u001b[0;32m~/work/lhcb/ddst/lib/dndnpip.py\u001b[0m in \u001b[0;36mpdf_vars\u001b[0;34m(self, e, pd, mdpi)\u001b[0m\n\u001b[1;32m     52\u001b[0m         \"\"\" Convenience function for PDF in terms of observables\n\u001b[1;32m     53\u001b[0m         e: energy (MeV), pd: p(D) (MeV), mdpi: m(Dpi) (MeV) \"\"\"\n\u001b[0;32m---> 54\u001b[0;31m         return self.pdf(np.column_stack([\n\u001b[0m\u001b[1;32m     55\u001b[0m             \u001b[0me\u001b[0m \u001b[0;34m*\u001b[0m \u001b[0;36m10\u001b[0m\u001b[0;34m**\u001b[0m\u001b[0;34m-\u001b[0m\u001b[0;36m3\u001b[0m\u001b[0;34m,\u001b[0m\u001b[0;34m\u001b[0m\u001b[0;34m\u001b[0m\u001b[0m\n\u001b[1;32m     56\u001b[0m             \u001b[0;34m(\u001b[0m\u001b[0mpd\u001b[0m\u001b[0;34m*\u001b[0m\u001b[0;36m10\u001b[0m\u001b[0;34m**\u001b[0m\u001b[0;34m-\u001b[0m\u001b[0;36m6\u001b[0m \u001b[0;34m/\u001b[0m \u001b[0mmdn\u001b[0m \u001b[0;34m+\u001b[0m \u001b[0;36m2\u001b[0m\u001b[0;34m*\u001b[0m\u001b[0mmdn\u001b[0m\u001b[0;34m)\u001b[0m\u001b[0;34m**\u001b[0m\u001b[0;36m2\u001b[0m\u001b[0;34m,\u001b[0m\u001b[0;34m\u001b[0m\u001b[0;34m\u001b[0m\u001b[0m\n",
      "\u001b[0;32m~/work/lhcb/ddst/lib/dndnpip.py\u001b[0m in \u001b[0;36mpdf\u001b[0;34m(self, evts)\u001b[0m\n\u001b[1;32m     68\u001b[0m         \u001b[0mprint\u001b[0m\u001b[0;34m(\u001b[0m\u001b[0mmin\u001b[0m\u001b[0;34m(\u001b[0m\u001b[0mmd1pisq\u001b[0m\u001b[0;34m)\u001b[0m\u001b[0;34m,\u001b[0m \u001b[0mmax\u001b[0m\u001b[0;34m(\u001b[0m\u001b[0mmd1pisq\u001b[0m\u001b[0;34m)\u001b[0m\u001b[0;34m)\u001b[0m\u001b[0;34m\u001b[0m\u001b[0;34m\u001b[0m\u001b[0m\n\u001b[1;32m     69\u001b[0m         \u001b[0mmask\u001b[0m \u001b[0;34m=\u001b[0m \u001b[0mself\u001b[0m\u001b[0;34m.\u001b[0m\u001b[0misInPhsp\u001b[0m\u001b[0;34m(\u001b[0m\u001b[0ms\u001b[0m\u001b[0;34m,\u001b[0m \u001b[0mmddsq\u001b[0m\u001b[0;34m,\u001b[0m \u001b[0mmd1pisq\u001b[0m\u001b[0;34m)\u001b[0m\u001b[0;34m\u001b[0m\u001b[0;34m\u001b[0m\u001b[0m\n\u001b[0;32m---> 70\u001b[0;31m         \u001b[0;32massert\u001b[0m \u001b[0mnp\u001b[0m\u001b[0;34m.\u001b[0m\u001b[0many\u001b[0m\u001b[0;34m(\u001b[0m\u001b[0mmask\u001b[0m\u001b[0;34m)\u001b[0m\u001b[0;34m\u001b[0m\u001b[0;34m\u001b[0m\u001b[0m\n\u001b[0m\u001b[1;32m     71\u001b[0m \u001b[0;34m\u001b[0m\u001b[0m\n\u001b[1;32m     72\u001b[0m         \u001b[0mresult\u001b[0m \u001b[0;34m=\u001b[0m \u001b[0mnp\u001b[0m\u001b[0;34m.\u001b[0m\u001b[0mzeros\u001b[0m\u001b[0;34m(\u001b[0m\u001b[0mmask\u001b[0m\u001b[0;34m.\u001b[0m\u001b[0mshape\u001b[0m\u001b[0;34m,\u001b[0m \u001b[0mdtype\u001b[0m\u001b[0;34m=\u001b[0m\u001b[0mfloat\u001b[0m\u001b[0;34m)\u001b[0m\u001b[0;34m\u001b[0m\u001b[0;34m\u001b[0m\u001b[0m\n",
      "\u001b[0;31mAssertionError\u001b[0m: "
     ]
    }
   ],
   "source": [
    "f = grid_pdf(pdf, lgrid)\n",
    "f.shape"
   ]
  },
  {
   "cell_type": "code",
   "execution_count": null,
   "metadata": {},
   "outputs": [],
   "source": [
    "fig, ax = plt.subplots(ncols=3, figsize=(14, 4.5))\n",
    "draw_pdf_projections(ax, x, f)\n",
    "fig.tight_layout()"
   ]
  },
  {
   "cell_type": "code",
   "execution_count": null,
   "metadata": {},
   "outputs": [],
   "source": [
    "e, pd, mdpi = lgrid[0].flatten(), lgrid[1].flatten(), lgrid[2].flatten()\n",
    "np.column_stack([\n",
    "            e * 10**-3,\n",
    "            (pd*10**-6 / mdn + 2*mdn)**2,\n",
    "            (mdpi * 10**-3)**2\n",
    "        ])[:10]"
   ]
  },
  {
   "cell_type": "code",
   "execution_count": null,
   "metadata": {},
   "outputs": [],
   "source": [
    "lgrid[0].flatten().shape"
   ]
  },
  {
   "cell_type": "code",
   "execution_count": null,
   "metadata": {},
   "outputs": [],
   "source": []
  }
 ],
 "metadata": {
  "kernelspec": {
   "display_name": "Python 3",
   "language": "python",
   "name": "python3"
  },
  "language_info": {
   "codemirror_mode": {
    "name": "ipython",
    "version": 3
   },
   "file_extension": ".py",
   "mimetype": "text/x-python",
   "name": "python",
   "nbconvert_exporter": "python",
   "pygments_lexer": "ipython3",
   "version": "3.8.3"
  }
 },
 "nbformat": 4,
 "nbformat_minor": 4
}
