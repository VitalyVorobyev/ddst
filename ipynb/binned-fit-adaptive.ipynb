{
 "cells": [
  {
   "cell_type": "markdown",
   "metadata": {},
   "source": [
    "# Adaptive binned fit with hist PDF"
   ]
  },
  {
   "cell_type": "code",
   "execution_count": 1,
   "metadata": {},
   "outputs": [],
   "source": [
    "import os\n",
    "import numpy as np\n",
    "from scipy import interpolate\n",
    "import matplotlib.pyplot as plt\n",
    "\n",
    "def set_style(tick_label_size=16, font_size=18):\n",
    "    import matplotlib\n",
    "    matplotlib.rc('xtick', labelsize=tick_label_size)\n",
    "    matplotlib.rc('ytick', labelsize=tick_label_size)\n",
    "    matplotlib.rc('font', size=font_size)\n",
    "\n",
    "set_style()"
   ]
  },
  {
   "cell_type": "code",
   "execution_count": 2,
   "metadata": {},
   "outputs": [],
   "source": [
    "from lib.params import mdn"
   ]
  },
  {
   "cell_type": "code",
   "execution_count": 3,
   "metadata": {},
   "outputs": [],
   "source": [
    "data_path = './mcsamples'"
   ]
  },
  {
   "cell_type": "code",
   "execution_count": 4,
   "metadata": {},
   "outputs": [],
   "source": [
    "def get_vars(data):\n",
    "    \"\"\" \"\"\"\n",
    "    e, mddsq, md1pisq = [data[:,i] for i in range(3)]\n",
    "    tdd = (np.sqrt(mddsq) - 2*mdn)*10**3\n",
    "    mask = tdd > 0\n",
    "    pd = np.sqrt(np.clip(tdd[mask], 0, None) * mdn * 10**3)\n",
    "    return np.column_stack([e[mask], pd, np.sqrt(md1pisq[mask])])"
   ]
  },
  {
   "cell_type": "code",
   "execution_count": 5,
   "metadata": {},
   "outputs": [],
   "source": [
    "def apply_range(data, rng):\n",
    "    \"\"\" \"\"\"\n",
    "    for idx, (lo, hi) in enumerate(rng):\n",
    "        data = data[(data[:,idx]>lo) & (data[:,idx]<hi)]\n",
    "    return data"
   ]
  },
  {
   "cell_type": "code",
   "execution_count": 6,
   "metadata": {},
   "outputs": [],
   "source": [
    "def smeared_sample(gsre, gsim, chunks, rng, N=-1, silent=True):\n",
    "    fname = os.path.join(data_path, f'mc_ddpip_3d_gs{gsre:.2f}_{gsim:.2f}_ch{chunks}_smeared.npy')\n",
    "    if not silent:\n",
    "        print(fname)\n",
    "    if os.path.isfile(fname) is None:\n",
    "        return None\n",
    "    return apply_range(get_vars(np.load(fname)), rng)[:N]"
   ]
  },
  {
   "cell_type": "code",
   "execution_count": 7,
   "metadata": {},
   "outputs": [],
   "source": [
    "def find_bins(data, nbins):\n",
    "    \"\"\" \"\"\"\n",
    "    x = np.sort(data)\n",
    "    step = x.shape[0] // nbins\n",
    "    return [x[i*step] for i in range(nbins)] + [x[-1]]"
   ]
  },
  {
   "cell_type": "code",
   "execution_count": 8,
   "metadata": {},
   "outputs": [],
   "source": [
    "def adaptive_hist(ax, data, nbins):\n",
    "    \"\"\" \"\"\"\n",
    "    ax.hist(data, bins=find_bins(data, nbins))"
   ]
  },
  {
   "cell_type": "code",
   "execution_count": 9,
   "metadata": {},
   "outputs": [],
   "source": [
    "bins = (20,10,10)\n",
    "edges = ((-1.5, 8.), (0, 120), (2.006, 2.014))"
   ]
  },
  {
   "cell_type": "code",
   "execution_count": 10,
   "metadata": {},
   "outputs": [
    {
     "data": {
      "text/plain": [
       "(56630, 3)"
      ]
     },
     "execution_count": 10,
     "metadata": {},
     "output_type": "execute_result"
    }
   ],
   "source": [
    "gsre0, gsim0, chunks0 = 41, 1.5, 50\n",
    "test_sample = smeared_sample(gsre0, gsim0, chunks0, rng=edges)\n",
    "test_sample.shape"
   ]
  },
  {
   "cell_type": "code",
   "execution_count": 11,
   "metadata": {},
   "outputs": [
    {
     "data": {
      "text/plain": [
       "array([[-1.8318750e-01,  3.9051517e+01,  2.0085833e+00],\n",
       "       [ 5.6085639e-02,  4.4605392e+01,  2.0094507e+00],\n",
       "       [ 2.0143719e+00,  8.3349091e+01,  2.0103295e+00],\n",
       "       [ 4.0795660e+00,  6.2979267e+01,  2.0127962e+00],\n",
       "       [ 2.4006266e-02,  2.5311789e+01,  2.0091407e+00]], dtype=float32)"
      ]
     },
     "execution_count": 11,
     "metadata": {},
     "output_type": "execute_result"
    }
   ],
   "source": [
    "test_sample[:5]"
   ]
  },
  {
   "cell_type": "code",
   "execution_count": 12,
   "metadata": {},
   "outputs": [],
   "source": [
    "def draw_1d_projections(ax, data, bins, rng, weights=None):\n",
    "    labels = [r'$E (MeV)$', r'$p(D^0)$ (MeV)', r'$m(D^0pi^+)$ (GeV)']\n",
    "    for i in range(3):\n",
    "        adaptive_hist(ax[i], data[:,i], bins[i])\n",
    "        ax[i].set_xlim(rng[i])\n",
    "        ax[i].grid()\n",
    "        ax[i].set_xlabel(labels[i])"
   ]
  },
  {
   "cell_type": "code",
   "execution_count": 13,
   "metadata": {},
   "outputs": [
    {
     "data": {
      "image/png": "[encoded data removed]",
      "text/plain": [
       "<Figure size 1008x360 with 3 Axes>"
      ]
     },
     "metadata": {
      "needs_background": "light"
     },
     "output_type": "display_data"
    }
   ],
   "source": [
    "fig, ax = plt.subplots(ncols=3, figsize=(14,5))\n",
    "draw_1d_projections(ax, test_sample, bins=bins, rng=edges)\n",
    "fig.tight_layout()"
   ]
  },
  {
   "cell_type": "code",
   "execution_count": 14,
   "metadata": {},
   "outputs": [],
   "source": [
    "def adaptive_binned_smeared_sample(gsre, gsim, chunks, bins, rng, N=-1, smpl=None):\n",
    "    smpl = smeared_sample(gsre, gsim, chunks, rng, N)\n",
    "    if smpl is None:\n",
    "        return None\n",
    "    if isinstance(bins[0], int):\n",
    "        edges = [find_bins(smpl[:,i], b) for i, b in enumerate(bins)]\n",
    "    else:\n",
    "        edges = bins\n",
    "    return np.histogramdd(smpl, bins=edges)"
   ]
  },
  {
   "cell_type": "code",
   "execution_count": 15,
   "metadata": {},
   "outputs": [
    {
     "data": {
      "text/plain": [
       "(50000, 3)"
      ]
     },
     "execution_count": 15,
     "metadata": {},
     "output_type": "execute_result"
    }
   ],
   "source": [
    "sample = smeared_sample(gsre0, gsim0, chunks0, rng=edges, N=5*10**4)\n",
    "sample.shape"
   ]
  },
  {
   "cell_type": "code",
   "execution_count": 16,
   "metadata": {},
   "outputs": [],
   "source": [
    "adahist_sample, ada_edges = adaptive_binned_smeared_sample(gsre0, gsim0, chunks0, bins, edges, N=5*10**4)"
   ]
  },
  {
   "cell_type": "code",
   "execution_count": 17,
   "metadata": {},
   "outputs": [
    {
     "data": {
      "text/plain": [
       "(20, 10, 10)"
      ]
     },
     "execution_count": 17,
     "metadata": {},
     "output_type": "execute_result"
    }
   ],
   "source": [
    "adahist_sample.shape"
   ]
  },
  {
   "cell_type": "code",
   "execution_count": 18,
   "metadata": {},
   "outputs": [
    {
     "data": {
      "text/plain": [
       "50000.0"
      ]
     },
     "execution_count": 18,
     "metadata": {},
     "output_type": "execute_result"
    }
   ],
   "source": [
    "np.sum(adahist_sample)"
   ]
  },
  {
   "cell_type": "markdown",
   "metadata": {},
   "source": [
    "Most bins are not empty"
   ]
  },
  {
   "cell_type": "code",
   "execution_count": 19,
   "metadata": {},
   "outputs": [
    {
     "data": {
      "text/plain": [
       "(661, 1339)"
      ]
     },
     "execution_count": 19,
     "metadata": {},
     "output_type": "execute_result"
    }
   ],
   "source": [
    "np.sum(adahist_sample==0), np.sum(adahist_sample!=0)"
   ]
  },
  {
   "cell_type": "code",
   "execution_count": 48,
   "metadata": {},
   "outputs": [
    {
     "data": {
      "image/png": "[encoded data removed]",
      "text/plain": [
       "<Figure size 432x288 with 1 Axes>"
      ]
     },
     "metadata": {
      "needs_background": "light"
     },
     "output_type": "display_data"
    }
   ],
   "source": [
    "plt.hist(adahist_sample.flatten(), bins=29, range=(1, 50));"
   ]
  },
  {
   "cell_type": "markdown",
   "metadata": {},
   "source": [
    "Chi2 fit cannot be used since most of bins contain zero or only a few events. Let't construct the Poisson binned likelihood function\n",
    "\n",
    "$$\n",
    "{\\cal L} = \\prod_i \\frac{\\mu_i^{n_i}e^{-\\mu_i}}{n_i!}\n",
    "$$\n",
    "\n",
    "$$\n",
    "{\\cal F} = -\\ln{\\cal L}=-\\sum_i\\left(n_i\\ln \\mu_i - \\mu_i - \\ln (n_i!)\\right)\n",
    "$$\n",
    "\n",
    "Second term in sum gives number of events in a tested sample $N$.\n",
    "\n",
    "$$\n",
    "{\\cal F} = -\\sum_i\\left(n_i\\ln \\mu_i - \\ln (n_i!)\\right) + N\n",
    "$$"
   ]
  },
  {
   "cell_type": "code",
   "execution_count": 21,
   "metadata": {},
   "outputs": [],
   "source": [
    "def make_adaptive_reference(gsre, gsim, bins, rng):\n",
    "    hist, edges = adaptive_binned_smeared_sample(gsre, gsim, chunks=250, bins=bins, rng=rng)\n",
    "    if hist is None:\n",
    "        return None\n",
    "    return (hist / np.sum(hist), edges)"
   ]
  },
  {
   "cell_type": "code",
   "execution_count": 22,
   "metadata": {},
   "outputs": [],
   "source": [
    "def apply_adaptive_bins(smpl, edges):\n",
    "    \"\"\" \"\"\"\n",
    "    return np.histogramdd(smpl, bins=edges)[0]"
   ]
  },
  {
   "cell_type": "code",
   "execution_count": 23,
   "metadata": {},
   "outputs": [],
   "source": [
    "from scipy.special import loggamma"
   ]
  },
  {
   "cell_type": "code",
   "execution_count": 24,
   "metadata": {},
   "outputs": [],
   "source": [
    "def binned_loglh(hist, ref_hist):\n",
    "    \"\"\" Binned log likelihood function \"\"\"\n",
    "    mask = ref_hist > 0\n",
    "    n = hist[mask]\n",
    "    n[n == 0] = 1\n",
    "    N = np.sum(n)\n",
    "    mu = ref_hist[mask] / np.sum(ref_hist) * N\n",
    "    return -np.sum(n * np.log(mu) - loggamma(n)) + N"
   ]
  },
  {
   "cell_type": "code",
   "execution_count": 25,
   "metadata": {},
   "outputs": [],
   "source": [
    "gsrel = [35, 36, 37, 38, 39, 40, 41, 42, 43, 44, 45, 46]\n",
    "gsiml = [1.1, 1.2, 1.3, 1.4, 1.5, 1.6, 1.7, 1.8, 1.9]"
   ]
  },
  {
   "cell_type": "code",
   "execution_count": 26,
   "metadata": {},
   "outputs": [
    {
     "data": {
      "text/plain": [
       "(9, 12)"
      ]
     },
     "execution_count": 26,
     "metadata": {},
     "output_type": "execute_result"
    }
   ],
   "source": [
    "mg_gsre, mg_gsim = np.meshgrid(gsrel, gsiml)\n",
    "mg_gsre.shape"
   ]
  },
  {
   "cell_type": "code",
   "execution_count": 27,
   "metadata": {},
   "outputs": [],
   "source": [
    "def make_lhmap(samp, gsre, gsim, bins, rng, subtract_min=True):\n",
    "    \"\"\" \"\"\"\n",
    "    lhmap = np.empty(gsre.shape)\n",
    "    for i in range(lhmap.shape[0]):\n",
    "        for j in range(lhmap.shape[1]):\n",
    "            ada_reference, ada_edges = make_adaptive_reference(gsre[i,j], gsim[i,j], bins, rng)\n",
    "            if ada_reference is None:\n",
    "                print(f'reference not found for {mg_gsre[i,j]} {mg_gsim[i,j]}')\n",
    "                lhmap[i,j] = -1\n",
    "                continue\n",
    "            ada_sample = apply_adaptive_bins(samp, ada_edges)\n",
    "            lhmap[i,j] = binned_loglh(ada_sample, ada_reference)\n",
    "    if subtract_min:\n",
    "        lhmap -= np.min(lhmap)\n",
    "    return lhmap"
   ]
  },
  {
   "cell_type": "code",
   "execution_count": 28,
   "metadata": {},
   "outputs": [
    {
     "data": {
      "text/plain": [
       "array([[4326.66765647, 3048.1745043 , 2108.62821382, 1501.40936975,\n",
       "         957.52636462,  616.0116537 ,  620.97873059,  732.20945596,\n",
       "        1152.9492889 , 1806.80886777, 2651.49261542, 3845.94668667],\n",
       "       [4081.32677042, 2854.9329553 , 1907.82490676, 1173.11205919,\n",
       "         699.02594919,  369.25557521,  293.68712608,  454.2112426 ,\n",
       "         989.54108753, 1484.11532853, 2345.98843158, 3446.6924174 ],\n",
       "       [3683.68395135, 2646.3510958 , 1821.69288699,  982.31836888,\n",
       "         532.81352981,  210.05765801,   95.47441069,  284.60214126,\n",
       "         646.09640428, 1351.4186747 , 2200.63922385, 3298.34677883],\n",
       "       [3468.11623616, 2477.5469931 , 1674.36531497,  960.79192382,\n",
       "         442.20115907,  156.36437382,   53.87795917,  219.14977059,\n",
       "         607.48295608, 1189.61331452, 1972.75005215, 3095.99928111],\n",
       "       [3406.02516876, 2386.51821296, 1729.18887647,  836.74355887,\n",
       "         420.77423512,  134.13350828,    0.        ,  180.75305811,\n",
       "         514.99011416, 1111.95865511, 1939.19575079, 2970.84567213],\n",
       "       [3544.0266877 , 2448.83087268, 1593.94299199,  982.82847538,\n",
       "         473.21373244,  150.76740209,   81.32281744,  183.62539781,\n",
       "         529.14779879, 1066.10426418, 1930.59123715, 3018.37129079],\n",
       "       [3522.91611208, 2480.70939212, 1702.60353369,  975.29821736,\n",
       "         532.12186611,  272.68149663,  143.36212096,  282.45606848,\n",
       "         545.06820494, 1131.5239827 , 1934.21050665, 2962.51897166],\n",
       "       [3463.56189329, 2531.93710771, 1748.63980347, 1127.13585632,\n",
       "         602.0760435 ,  340.99858463,  256.00920182,  371.1405095 ,\n",
       "         669.54932032, 1237.52157522, 1906.36001483, 3026.50462942],\n",
       "       [3528.7098334 , 2578.82783889, 1813.52999219, 1231.67104944,\n",
       "         661.48124071,  465.52356525,  350.93215767,  471.05540456,\n",
       "         776.69201552, 1327.00461903, 2095.86945913, 3050.33106106]])"
      ]
     },
     "execution_count": 28,
     "metadata": {},
     "output_type": "execute_result"
    }
   ],
   "source": [
    "lhmap = make_lhmap(sample, mg_gsre, mg_gsim, bins, edges, subtract_min=True)\n",
    "lhmap"
   ]
  },
  {
   "cell_type": "code",
   "execution_count": 60,
   "metadata": {},
   "outputs": [],
   "source": [
    "def draw_spline_contours(ax, x, y, z, levels=10):\n",
    "    f = interpolate.interp2d(x, y, z, kind='cubic')\n",
    "#     f = interpolate.interp2d(x, y, z, kind='linear')\n",
    "    newx = np.linspace(np.min(x), np.max(x), 50)\n",
    "    newy = np.linspace(np.min(y), np.max(y), 50)\n",
    "    cntf = ax.contourf(newx, newy, f(newx, newy), levels=levels);\n",
    "    plt.colorbar(cntf, ax=ax);"
   ]
  },
  {
   "cell_type": "code",
   "execution_count": 62,
   "metadata": {},
   "outputs": [
    {
     "data": {
      "image/png": "[encoded data removed]",
      "text/plain": [
       "<Figure size 720x576 with 2 Axes>"
      ]
     },
     "metadata": {
      "needs_background": "light"
     },
     "output_type": "display_data"
    }
   ],
   "source": [
    "fig, ax = plt.subplots(figsize=(10,8))\n",
    "draw_spline_contours(ax, mg_gsre, mg_gsim, lhmap, levels=25)\n",
    "ax.plot([41], [1.5], marker='.', markersize=10, color='r');\n",
    "fig.tight_layout()"
   ]
  },
  {
   "cell_type": "code",
   "execution_count": 53,
   "metadata": {},
   "outputs": [
    {
     "data": {
      "image/png": "[encoded data removed]",
      "text/plain": [
       "<Figure size 1008x504 with 2 Axes>"
      ]
     },
     "metadata": {
      "needs_background": "light"
     },
     "output_type": "display_data"
    }
   ],
   "source": [
    "fig, ax = plt.subplots(ncols=2, figsize=(14,7))\n",
    "for i in range(lhmap.shape[0]):\n",
    "    ax[0].plot(gsrel, lhmap[i,:], linestyle='none', marker='.', markersize=10, label=f'Im = {gsiml[i]}')\n",
    "    ax[0].legend()\n",
    "\n",
    "for j in range(lhmap.shape[1]):\n",
    "    ax[1].plot(gsiml, lhmap[:,j], linestyle='none', marker='.', markersize=10, label=f'Re = {gsrel[j]}');\n",
    "    ax[1].legend()\n",
    "\n",
    "fig.tight_layout()"
   ]
  },
  {
   "cell_type": "markdown",
   "metadata": {},
   "source": [
    "Estimate of the statistical precision"
   ]
  },
  {
   "cell_type": "code",
   "execution_count": 32,
   "metadata": {},
   "outputs": [
    {
     "data": {
      "text/plain": [
       "(9, 12)"
      ]
     },
     "execution_count": 32,
     "metadata": {},
     "output_type": "execute_result"
    }
   ],
   "source": [
    "lhmap.shape"
   ]
  },
  {
   "cell_type": "code",
   "execution_count": 33,
   "metadata": {},
   "outputs": [
    {
     "data": {
      "text/plain": [
       "array([[369.25557521, 293.68712608, 454.2112426 ],\n",
       "       [210.05765801,  95.47441069, 284.60214126],\n",
       "       [156.36437382,  53.87795917, 219.14977059],\n",
       "       [134.13350828,   0.        , 180.75305811],\n",
       "       [150.76740209,  81.32281744, 183.62539781],\n",
       "       [272.68149663, 143.36212096, 282.45606848]])"
      ]
     },
     "execution_count": 33,
     "metadata": {},
     "output_type": "execute_result"
    }
   ],
   "source": [
    "ilo, ihi = 1, 7\n",
    "jlo, jhi = 5, 8\n",
    "lhmap[ilo:ihi,jlo:jhi] - np.min(lhmap[ilo:ihi,jlo:jhi])"
   ]
  },
  {
   "cell_type": "code",
   "execution_count": 34,
   "metadata": {},
   "outputs": [],
   "source": [
    "def parab(x, y, x0, y0, a, b, rho):\n",
    "    \"\"\" \"\"\"\n",
    "    rot = np.array([\n",
    "        [np.sqrt(1. - rho**2), -rho],\n",
    "        [rho, np.sqrt(1. - rho**2)]\n",
    "    ])\n",
    "    xpr = (x - x0) * rot[0,0] + (y - y0) * rot[0, 1]\n",
    "    ypr = (x - x0) * rot[1,0] + (y - y0) * rot[1, 1]\n",
    "    return (xpr / a)**2 + (ypr / b)**2"
   ]
  },
  {
   "cell_type": "code",
   "execution_count": 35,
   "metadata": {},
   "outputs": [],
   "source": [
    "def plot_parab(ax, x0, y0, a, b, rho):\n",
    "    x = np.linspace(x0 - 10*a, x0 + 10*a, 100)\n",
    "    y = np.linspace(y0 - 10*b, y0 + 10*b, 100)\n",
    "    xl, yl = np.meshgrid(x, y)\n",
    "    z = lambda x, y: parab(x, y, x0, y0, a, b, rho)\n",
    "    return ax.contourf(xl, yl, z(xl, yl), levels=10)"
   ]
  },
  {
   "cell_type": "code",
   "execution_count": 36,
   "metadata": {},
   "outputs": [
    {
     "data": {
      "text/plain": [
       "((6, 9), (6, 9), (6, 9))"
      ]
     },
     "execution_count": 36,
     "metadata": {},
     "output_type": "execute_result"
    }
   ],
   "source": [
    "ilo, ihi = 2, -1\n",
    "jlo, jhi = 2, -1\n",
    "xfit, yfit = np.meshgrid(gsrel[ilo:ihi], gsiml[jlo:jhi])\n",
    "zfit = lhmap[ilo:ihi,jlo:jhi] - np.min(lhmap[ilo:ihi,jlo:jhi])\n",
    "xfit.shape, yfit.shape, zfit.shape"
   ]
  },
  {
   "cell_type": "code",
   "execution_count": 37,
   "metadata": {},
   "outputs": [
    {
     "data": {
      "text/plain": [
       "array([[37, 38, 39, 40, 41, 42, 43, 44, 45],\n",
       "       [37, 38, 39, 40, 41, 42, 43, 44, 45],\n",
       "       [37, 38, 39, 40, 41, 42, 43, 44, 45],\n",
       "       [37, 38, 39, 40, 41, 42, 43, 44, 45],\n",
       "       [37, 38, 39, 40, 41, 42, 43, 44, 45],\n",
       "       [37, 38, 39, 40, 41, 42, 43, 44, 45]])"
      ]
     },
     "execution_count": 37,
     "metadata": {},
     "output_type": "execute_result"
    }
   ],
   "source": [
    "xfit"
   ]
  },
  {
   "cell_type": "code",
   "execution_count": 38,
   "metadata": {},
   "outputs": [
    {
     "data": {
      "text/plain": [
       "array([[1.3, 1.3, 1.3, 1.3, 1.3, 1.3, 1.3, 1.3, 1.3],\n",
       "       [1.4, 1.4, 1.4, 1.4, 1.4, 1.4, 1.4, 1.4, 1.4],\n",
       "       [1.5, 1.5, 1.5, 1.5, 1.5, 1.5, 1.5, 1.5, 1.5],\n",
       "       [1.6, 1.6, 1.6, 1.6, 1.6, 1.6, 1.6, 1.6, 1.6],\n",
       "       [1.7, 1.7, 1.7, 1.7, 1.7, 1.7, 1.7, 1.7, 1.7],\n",
       "       [1.8, 1.8, 1.8, 1.8, 1.8, 1.8, 1.8, 1.8, 1.8]])"
      ]
     },
     "execution_count": 38,
     "metadata": {},
     "output_type": "execute_result"
    }
   ],
   "source": [
    "yfit"
   ]
  },
  {
   "cell_type": "code",
   "execution_count": 39,
   "metadata": {},
   "outputs": [
    {
     "data": {
      "text/plain": [
       "array([[1821.69288699,  982.31836888,  532.81352981,  210.05765801,\n",
       "          95.47441069,  284.60214126,  646.09640428, 1351.4186747 ,\n",
       "        2200.63922385],\n",
       "       [1674.36531497,  960.79192382,  442.20115907,  156.36437382,\n",
       "          53.87795917,  219.14977059,  607.48295608, 1189.61331452,\n",
       "        1972.75005215],\n",
       "       [1729.18887647,  836.74355887,  420.77423512,  134.13350828,\n",
       "           0.        ,  180.75305811,  514.99011416, 1111.95865511,\n",
       "        1939.19575079],\n",
       "       [1593.94299199,  982.82847538,  473.21373244,  150.76740209,\n",
       "          81.32281744,  183.62539781,  529.14779879, 1066.10426418,\n",
       "        1930.59123715],\n",
       "       [1702.60353369,  975.29821736,  532.12186611,  272.68149663,\n",
       "         143.36212096,  282.45606848,  545.06820494, 1131.5239827 ,\n",
       "        1934.21050665],\n",
       "       [1748.63980347, 1127.13585632,  602.0760435 ,  340.99858463,\n",
       "         256.00920182,  371.1405095 ,  669.54932032, 1237.52157522,\n",
       "        1906.36001483]])"
      ]
     },
     "execution_count": 39,
     "metadata": {},
     "output_type": "execute_result"
    }
   ],
   "source": [
    "zfit"
   ]
  },
  {
   "cell_type": "code",
   "execution_count": 40,
   "metadata": {},
   "outputs": [],
   "source": [
    "def loss(pars):\n",
    "    x0, y0, a, b, rho = pars\n",
    "    rho = max(min(rho, 0.99), -0.99)\n",
    "    return np.sum((zfit - parab(xfit, yfit, x0, y0, a, b, rho))**2)"
   ]
  },
  {
   "cell_type": "code",
   "execution_count": 41,
   "metadata": {},
   "outputs": [],
   "source": [
    "from scipy.optimize import minimize"
   ]
  },
  {
   "cell_type": "code",
   "execution_count": 42,
   "metadata": {},
   "outputs": [
    {
     "data": {
      "text/plain": [
       "      fun: 148986.4664857279\n",
       " hess_inv: array([[ 6.44976738e-09, -6.11485943e-09, -2.09935766e-10,\n",
       "        -1.39992431e-10,  3.06279375e-09],\n",
       "       [-6.11485943e-09,  5.82937138e-09,  1.79494236e-10,\n",
       "         1.31951441e-10, -2.92442765e-09],\n",
       "       [-2.09935766e-10,  1.79494236e-10,  3.38423619e-11,\n",
       "        -2.29818580e-11, -5.03113590e-11],\n",
       "       [-1.39992431e-10,  1.31951441e-10, -2.29818580e-11,\n",
       "         1.09252571e-10, -1.61072229e-10],\n",
       "       [ 3.06279375e-09, -2.92442765e-09, -5.03113590e-11,\n",
       "        -1.61072229e-10,  1.57102351e-09]])\n",
       "      jac: array([ 0.01367188,  0.02148438,  0.11914062,  0.06445312, -0.00195312])\n",
       "  message: 'Desired error not necessarily achieved due to precision loss.'\n",
       "     nfev: 617\n",
       "      nit: 23\n",
       "     njev: 101\n",
       "   status: 2\n",
       "  success: False\n",
       "        x: array([ 4.08526743e+01,  1.53941401e+00,  9.53196535e-02,  1.86443527e-02,\n",
       "       -1.00629493e-02])"
      ]
     },
     "execution_count": 42,
     "metadata": {},
     "output_type": "execute_result"
    }
   ],
   "source": [
    "init = (41, 1.5, 0.1, 0.1, 0.)\n",
    "res = minimize(loss, init)\n",
    "res"
   ]
  },
  {
   "cell_type": "code",
   "execution_count": 43,
   "metadata": {},
   "outputs": [
    {
     "data": {
      "image/png": "[encoded data removed]",
      "text/plain": [
       "<Figure size 720x576 with 2 Axes>"
      ]
     },
     "metadata": {
      "needs_background": "light"
     },
     "output_type": "display_data"
    }
   ],
   "source": [
    "fig, ax = plt.subplots(figsize=(10,8))\n",
    "cnt = plot_parab(ax, *res.x)\n",
    "ax.plot([41], [1.5], marker='.', markersize=10, color='r');\n",
    "plt.colorbar(cnt);"
   ]
  },
  {
   "cell_type": "code",
   "execution_count": 44,
   "metadata": {},
   "outputs": [
    {
     "data": {
      "text/plain": [
       "array([8.03104438e-05, 7.63503201e-05, 5.81741883e-06, 1.04523955e-05,\n",
       "       3.96361389e-05])"
      ]
     },
     "execution_count": 44,
     "metadata": {},
     "output_type": "execute_result"
    }
   ],
   "source": [
    "covar = np.diagonal(res.hess_inv)\n",
    "np.sqrt(covar)"
   ]
  },
  {
   "cell_type": "code",
   "execution_count": 45,
   "metadata": {},
   "outputs": [
    {
     "data": {
      "text/plain": [
       "array([0.01795796, 0.01707245, 0.00130081, 0.00233723, 0.00886291])"
      ]
     },
     "execution_count": 45,
     "metadata": {},
     "output_type": "execute_result"
    }
   ],
   "source": [
    "sigmas = np.sqrt(covar) * np.sqrt(5*10**4)\n",
    "sigmas"
   ]
  },
  {
   "cell_type": "code",
   "execution_count": 63,
   "metadata": {},
   "outputs": [
    {
     "name": "stdout",
     "output_type": "stream",
     "text": [
      "s(gamma_re) = 18.0 / sqrt(N) MeV\n",
      "s(gamma_im) = 17.1 / sqrt(N) MeV\n"
     ]
    }
   ],
   "source": [
    "print(f's(gamma_re) = {sigmas[0]*10**3:.1f} / sqrt(N) MeV')\n",
    "print(f's(gamma_im) = {sigmas[1]*10**3:.1f} / sqrt(N) MeV')"
   ]
  },
  {
   "cell_type": "markdown",
   "metadata": {},
   "source": [
    "For 400 events:"
   ]
  },
  {
   "cell_type": "code",
   "execution_count": 64,
   "metadata": {},
   "outputs": [
    {
     "name": "stdout",
     "output_type": "stream",
     "text": [
      "s(gamma_re) = 0.9 MeV @ 400 events\n",
      "s(gamma_im) = 0.9 MeV @ 400 events\n"
     ]
    }
   ],
   "source": [
    "nevents = 400\n",
    "print(f's(gamma_re) = {sigmas[0]/np.sqrt(nevents)*10**3:.1f} MeV @ {nevents} events')\n",
    "print(f's(gamma_im) = {sigmas[1]/np.sqrt(nevents)*10**3:.1f} MeV @ {nevents} events')"
   ]
  },
  {
   "cell_type": "code",
   "execution_count": null,
   "metadata": {},
   "outputs": [],
   "source": []
  }
 ],
 "metadata": {
  "kernelspec": {
   "display_name": "Python 3",
   "language": "python",
   "name": "python3"
  },
  "language_info": {
   "codemirror_mode": {
    "name": "ipython",
    "version": 3
   },
   "file_extension": ".py",
   "mimetype": "text/x-python",
   "name": "python",
   "nbconvert_exporter": "python",
   "pygments_lexer": "ipython3",
   "version": "3.8.3"
  }
 },
 "nbformat": 4,
 "nbformat_minor": 4
}
