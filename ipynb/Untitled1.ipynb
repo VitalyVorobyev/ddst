{
 "cells": [
  {
   "cell_type": "code",
   "execution_count": 85,
   "metadata": {},
   "outputs": [],
   "source": [
    "import numpy as np\n",
    "from scipy import stats, signal\n",
    "import matplotlib.pyplot as plt"
   ]
  },
  {
   "cell_type": "markdown",
   "metadata": {},
   "source": [
    "# 1D"
   ]
  },
  {
   "cell_type": "code",
   "execution_count": 124,
   "metadata": {},
   "outputs": [
    {
     "data": {
      "text/plain": [
       "array([0., 0., 0., 0., 0., 0., 0., 0., 0., 0., 0., 0., 0., 0., 0., 0., 0.,\n",
       "       0., 0., 0., 0., 0., 0., 0., 0., 1., 0., 0., 0., 0., 0., 0., 0., 0.,\n",
       "       0., 0., 0., 0., 0., 0., 0., 0., 0., 0., 0., 0., 0., 0., 0., 0., 0.,\n",
       "       0., 0., 0., 0., 0., 0., 0., 0., 0., 0., 0., 0., 0., 0., 0., 0., 0.,\n",
       "       0., 0., 0., 0., 0., 0., 0., 0., 0., 0., 0., 0., 0., 0., 0., 0., 0.,\n",
       "       0., 0., 0., 0., 0., 0., 0., 0., 0., 0., 0., 0., 0., 0., 0., 0., 0.,\n",
       "       0., 0., 0., 0., 0., 0., 0., 0., 0., 0., 0., 0., 0., 0., 0., 0., 0.,\n",
       "       0., 0., 0., 0., 0., 0., 0., 0., 0., 0., 0., 0., 0., 0., 0., 0., 0.,\n",
       "       0., 0., 0., 0., 0., 0., 0., 0., 0., 0., 0., 0., 0., 0.])"
      ]
     },
     "execution_count": 124,
     "metadata": {},
     "output_type": "execute_result"
    }
   ],
   "source": [
    "data = np.zeros(150)\n",
    "data[25] = 1\n",
    "data"
   ]
  },
  {
   "cell_type": "code",
   "execution_count": 125,
   "metadata": {},
   "outputs": [
    {
     "data": {
      "text/plain": [
       "(150,)"
      ]
     },
     "execution_count": 125,
     "metadata": {},
     "output_type": "execute_result"
    }
   ],
   "source": [
    "data.shape"
   ]
  },
  {
   "cell_type": "code",
   "execution_count": 126,
   "metadata": {},
   "outputs": [
    {
     "data": {
      "text/plain": [
       "array([-3.        , -2.93959732, -2.87919463, -2.81879195, -2.75838926,\n",
       "       -2.69798658, -2.63758389, -2.57718121, -2.51677852, -2.45637584,\n",
       "       -2.39597315, -2.33557047, -2.27516779, -2.2147651 , -2.15436242,\n",
       "       -2.09395973, -2.03355705, -1.97315436, -1.91275168, -1.85234899,\n",
       "       -1.79194631, -1.73154362, -1.67114094, -1.61073826, -1.55033557,\n",
       "       -1.48993289, -1.4295302 , -1.36912752, -1.30872483, -1.24832215,\n",
       "       -1.18791946, -1.12751678, -1.06711409, -1.00671141, -0.94630872,\n",
       "       -0.88590604, -0.82550336, -0.76510067, -0.70469799, -0.6442953 ,\n",
       "       -0.58389262, -0.52348993, -0.46308725, -0.40268456, -0.34228188,\n",
       "       -0.28187919, -0.22147651, -0.16107383, -0.10067114, -0.04026846,\n",
       "        0.02013423,  0.08053691,  0.1409396 ,  0.20134228,  0.26174497,\n",
       "        0.32214765,  0.38255034,  0.44295302,  0.5033557 ,  0.56375839,\n",
       "        0.62416107,  0.68456376,  0.74496644,  0.80536913,  0.86577181,\n",
       "        0.9261745 ,  0.98657718,  1.04697987,  1.10738255,  1.16778523,\n",
       "        1.22818792,  1.2885906 ,  1.34899329,  1.40939597,  1.46979866,\n",
       "        1.53020134,  1.59060403,  1.65100671,  1.7114094 ,  1.77181208,\n",
       "        1.83221477,  1.89261745,  1.95302013,  2.01342282,  2.0738255 ,\n",
       "        2.13422819,  2.19463087,  2.25503356,  2.31543624,  2.37583893,\n",
       "        2.43624161,  2.4966443 ,  2.55704698,  2.61744966,  2.67785235,\n",
       "        2.73825503,  2.79865772,  2.8590604 ,  2.91946309,  2.97986577,\n",
       "        3.04026846,  3.10067114,  3.16107383,  3.22147651,  3.28187919,\n",
       "        3.34228188,  3.40268456,  3.46308725,  3.52348993,  3.58389262,\n",
       "        3.6442953 ,  3.70469799,  3.76510067,  3.82550336,  3.88590604,\n",
       "        3.94630872,  4.00671141,  4.06711409,  4.12751678,  4.18791946,\n",
       "        4.24832215,  4.30872483,  4.36912752,  4.4295302 ,  4.48993289,\n",
       "        4.55033557,  4.61073826,  4.67114094,  4.73154362,  4.79194631,\n",
       "        4.85234899,  4.91275168,  4.97315436,  5.03355705,  5.09395973,\n",
       "        5.15436242,  5.2147651 ,  5.27516779,  5.33557047,  5.39597315,\n",
       "        5.45637584,  5.51677852,  5.57718121,  5.63758389,  5.69798658,\n",
       "        5.75838926,  5.81879195,  5.87919463,  5.93959732,  6.        ])"
      ]
     },
     "execution_count": 126,
     "metadata": {},
     "output_type": "execute_result"
    }
   ],
   "source": [
    "x = np.linspace(-3, 6, data.size)\n",
    "x"
   ]
  },
  {
   "cell_type": "code",
   "execution_count": 127,
   "metadata": {},
   "outputs": [
    {
     "data": {
      "text/plain": [
       "0.06040268456375841"
      ]
     },
     "execution_count": 127,
     "metadata": {},
     "output_type": "execute_result"
    }
   ],
   "source": [
    "dx = x[1] - x[0]\n",
    "dx"
   ]
  },
  {
   "cell_type": "code",
   "execution_count": 128,
   "metadata": {},
   "outputs": [],
   "source": [
    "nsigma = 5\n",
    "sigma = 0.3"
   ]
  },
  {
   "cell_type": "code",
   "execution_count": 144,
   "metadata": {},
   "outputs": [
    {
     "data": {
      "text/plain": [
       "(50,)"
      ]
     },
     "execution_count": 144,
     "metadata": {},
     "output_type": "execute_result"
    }
   ],
   "source": [
    "grid = np.arange(-sigma*nsigma, sigma*nsigma, dx)\n",
    "grid.shape"
   ]
  },
  {
   "cell_type": "code",
   "execution_count": 145,
   "metadata": {},
   "outputs": [
    {
     "data": {
      "text/plain": [
       "(50,)"
      ]
     },
     "execution_count": 145,
     "metadata": {},
     "output_type": "execute_result"
    }
   ],
   "source": [
    "pdf = stats.norm.pdf(grid, 0, sigma)\n",
    "pdf.shape"
   ]
  },
  {
   "cell_type": "code",
   "execution_count": 158,
   "metadata": {},
   "outputs": [],
   "source": [
    "# smeared_signal = np.convolve(data, pdf, 'same')\n",
    "smeared_signal = signal.convolve(data, pdf, 'same', method='fft')\n",
    "# smeared_signal = smeared_signal[1::2]+smeared_signal[::2]"
   ]
  },
  {
   "cell_type": "code",
   "execution_count": 159,
   "metadata": {},
   "outputs": [
    {
     "data": {
      "text/plain": [
       "0.9999995116835719"
      ]
     },
     "execution_count": 159,
     "metadata": {},
     "output_type": "execute_result"
    }
   ],
   "source": [
    "smeared_signal.sum()*dx"
   ]
  },
  {
   "cell_type": "code",
   "execution_count": 160,
   "metadata": {},
   "outputs": [
    {
     "data": {
      "text/plain": [
       "((150,), (50,), (150,))"
      ]
     },
     "execution_count": 160,
     "metadata": {},
     "output_type": "execute_result"
    }
   ],
   "source": [
    "data.shape, pdf.shape, smeared_signal.shape"
   ]
  },
  {
   "cell_type": "code",
   "execution_count": 161,
   "metadata": {},
   "outputs": [
    {
     "data": {
      "image/png": "[encoded data removed]",
      "text/plain": [
       "<Figure size 432x288 with 1 Axes>"
      ]
     },
     "metadata": {
      "needs_background": "light"
     },
     "output_type": "display_data"
    }
   ],
   "source": [
    "plt.plot(x, smeared_signal);"
   ]
  },
  {
   "cell_type": "markdown",
   "metadata": {},
   "source": [
    "# 2D"
   ]
  },
  {
   "cell_type": "code",
   "execution_count": 163,
   "metadata": {},
   "outputs": [],
   "source": [
    "data2d = np.zeros((30, 30))\n",
    "data2d[15, 15] = 1"
   ]
  },
  {
   "cell_type": "code",
   "execution_count": 166,
   "metadata": {},
   "outputs": [
    {
     "data": {
      "text/plain": [
       "(30, 30)"
      ]
     },
     "execution_count": 166,
     "metadata": {},
     "output_type": "execute_result"
    }
   ],
   "source": [
    "x1 = np.linspace(-3, 6, 30)\n",
    "x2 = np.linspace(-30, -21, 30)\n",
    "x1mg, x2mg = np.meshgrid(x1, x2)\n",
    "x1mg.shape"
   ]
  },
  {
   "cell_type": "code",
   "execution_count": null,
   "metadata": {},
   "outputs": [],
   "source": []
  }
 ],
 "metadata": {
  "kernelspec": {
   "display_name": "Python 3",
   "language": "python",
   "name": "python3"
  },
  "language_info": {
   "codemirror_mode": {
    "name": "ipython",
    "version": 3
   },
   "file_extension": ".py",
   "mimetype": "text/x-python",
   "name": "python",
   "nbconvert_exporter": "python",
   "pygments_lexer": "ipython3",
   "version": "3.8.3"
  }
 },
 "nbformat": 4,
 "nbformat_minor": 4
}
