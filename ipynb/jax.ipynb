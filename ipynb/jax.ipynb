{
 "cells": [
  {
   "cell_type": "markdown",
   "metadata": {},
   "source": [
    "# Simple ML fit\n",
    "Let's do a max lh fit of 1D data set sampled from normal distribution with Jax and Flax"
   ]
  },
  {
   "cell_type": "code",
   "execution_count": 1,
   "metadata": {},
   "outputs": [],
   "source": [
    "import jax\n",
    "import jax.numpy as np\n",
    "import jax.random as rjax\n",
    "import flax\n",
    "from flax import nn, optim, serialization\n",
    "import matplotlib.pyplot as plt"
   ]
  },
  {
   "cell_type": "markdown",
   "metadata": {},
   "source": [
    "Generate input data"
   ]
  },
  {
   "cell_type": "code",
   "execution_count": 2,
   "metadata": {},
   "outputs": [
    {
     "name": "stderr",
     "output_type": "stream",
     "text": [
      "/home/vitaly/miniconda3/envs/tf2/lib/python3.8/site-packages/jax/lib/xla_bridge.py:125: UserWarning: No GPU/TPU found, falling back to CPU.\n",
      "  warnings.warn('No GPU/TPU found, falling back to CPU.')\n"
     ]
    },
    {
     "data": {
      "text/plain": [
       "(1000, 1)"
      ]
     },
     "execution_count": 2,
     "metadata": {},
     "output_type": "execute_result"
    }
   ],
   "source": [
    "N = 10**3\n",
    "data = rjax.normal(rjax.PRNGKey(1), (N,1))\n",
    "data.shape"
   ]
  },
  {
   "cell_type": "code",
   "execution_count": 3,
   "metadata": {},
   "outputs": [],
   "source": [
    "class Gauss(nn.Module):\n",
    "\n",
    "    def apply(self, x):\n",
    "        loc_init = jax.nn.initializers.uniform(scale=3)\n",
    "        scale_init = jax.nn.initializers.uniform(scale=10)\n",
    "        \n",
    "        loc = self.param('loc', (1,), loc_init)\n",
    "        scale = self.param('scale', (1,), scale_init)\n",
    "        \n",
    "        return jax.scipy.stats.norm.pdf(x, loc, scale)"
   ]
  },
  {
   "cell_type": "code",
   "execution_count": 4,
   "metadata": {},
   "outputs": [
    {
     "data": {
      "text/plain": [
       "{'loc': DeviceArray([2.433644], dtype=float32),\n",
       " 'scale': DeviceArray([1.9777608], dtype=float32)}"
      ]
     },
     "execution_count": 4,
     "metadata": {},
     "output_type": "execute_result"
    }
   ],
   "source": [
    "_, initial_params_gauss = Gauss.init(rjax.PRNGKey(0), data)\n",
    "initial_params_gauss"
   ]
  },
  {
   "cell_type": "code",
   "execution_count": 5,
   "metadata": {},
   "outputs": [],
   "source": [
    "model_gauss = nn.Model(Gauss, initial_params_gauss)"
   ]
  },
  {
   "cell_type": "code",
   "execution_count": 6,
   "metadata": {},
   "outputs": [],
   "source": [
    "optimizer_def = optim.Momentum(learning_rate=0.1/data.shape[0], beta=0.9)\n",
    "optimizer_gauss = optimizer_def.create(model_gauss)\n",
    "train_steps = 100"
   ]
  },
  {
   "cell_type": "code",
   "execution_count": 7,
   "metadata": {},
   "outputs": [],
   "source": [
    "def loglh_loss(model):\n",
    "    Xnorm = rjax.uniform(rjax.PRNGKey(10), (10**5,), minval=-5., maxval=5.)\n",
    "    return -np.sum(np.log(model(data))) +\\\n",
    "        data.shape[0] * np.log(np.sum(model(Xnorm)))"
   ]
  },
  {
   "cell_type": "code",
   "execution_count": 8,
   "metadata": {},
   "outputs": [],
   "source": [
    "for i in range(train_steps):\n",
    "    loss, grad = jax.value_and_grad(loglh_loss)(optimizer_gauss.target)\n",
    "    optimizer_gauss = optimizer_gauss.apply_gradient(grad)"
   ]
  },
  {
   "cell_type": "code",
   "execution_count": 9,
   "metadata": {},
   "outputs": [
    {
     "name": "stdout",
     "output_type": "stream",
     "text": [
      "loglh: 10632.911\n"
     ]
    }
   ],
   "source": [
    "print('loglh:', loss)"
   ]
  },
  {
   "cell_type": "code",
   "execution_count": 10,
   "metadata": {},
   "outputs": [
    {
     "data": {
      "text/plain": [
       "{'loc': DeviceArray([-0.04234971], dtype=float32),\n",
       " 'scale': DeviceArray([0.99382913], dtype=float32)}"
      ]
     },
     "execution_count": 10,
     "metadata": {},
     "output_type": "execute_result"
    }
   ],
   "source": [
    "trained_model_gauss = optimizer_gauss.target\n",
    "trained_model_gauss.params"
   ]
  },
  {
   "cell_type": "markdown",
   "metadata": {},
   "source": [
    "# Dense NN\n",
    "Let's model normal pdf with a neural network"
   ]
  },
  {
   "cell_type": "code",
   "execution_count": 11,
   "metadata": {},
   "outputs": [
    {
     "data": {
      "text/plain": [
       "(1000, 1)"
      ]
     },
     "execution_count": 11,
     "metadata": {},
     "output_type": "execute_result"
    }
   ],
   "source": [
    "N = 10**3\n",
    "data_nn = rjax.normal(rjax.PRNGKey(1), (N,1))\n",
    "data_nn.shape"
   ]
  },
  {
   "cell_type": "code",
   "execution_count": 12,
   "metadata": {},
   "outputs": [],
   "source": [
    "class NN(nn.Module):\n",
    "    def apply(self, x):\n",
    "        x = nn.Dense(x, features=32)\n",
    "        x = nn.sigmoid(x)\n",
    "        x = nn.Dense(x, features=32)\n",
    "        x = nn.sigmoid(x)\n",
    "        x = nn.Dense(x, features=1)\n",
    "        return nn.sigmoid(x)"
   ]
  },
  {
   "cell_type": "code",
   "execution_count": 13,
   "metadata": {},
   "outputs": [
    {
     "data": {
      "text/plain": [
       "{'Dense_0': {'bias': (32,), 'kernel': (1, 32)},\n",
       " 'Dense_1': {'bias': (32,), 'kernel': (32, 32)},\n",
       " 'Dense_2': {'bias': (1,), 'kernel': (32, 1)}}"
      ]
     },
     "execution_count": 13,
     "metadata": {},
     "output_type": "execute_result"
    }
   ],
   "source": [
    "_, initial_params_nn = NN.init(rjax.PRNGKey(0), data_nn)\n",
    "jax.tree_map(np.shape, initial_params_nn)"
   ]
  },
  {
   "cell_type": "code",
   "execution_count": 14,
   "metadata": {},
   "outputs": [],
   "source": [
    "model_nn = nn.Model(NN, initial_params_nn)"
   ]
  },
  {
   "cell_type": "code",
   "execution_count": 15,
   "metadata": {},
   "outputs": [],
   "source": [
    "adam = optim.Adam(learning_rate=0.03)\n",
    "optimizer_nn = adam.create(model_nn)\n",
    "train_steps = 100"
   ]
  },
  {
   "cell_type": "code",
   "execution_count": 16,
   "metadata": {},
   "outputs": [],
   "source": [
    "def loglh_loss_nn(model):\n",
    "    Xnorm = rjax.uniform(rjax.PRNGKey(10), (10**5, 1), minval=-5., maxval=5.)\n",
    "    return -np.sum(np.log(model(data_nn))) +\\\n",
    "        data_nn.shape[0] * np.log(np.sum(model(Xnorm)))"
   ]
  },
  {
   "cell_type": "code",
   "execution_count": 17,
   "metadata": {
    "scrolled": true
   },
   "outputs": [
    {
     "name": "stdout",
     "output_type": "stream",
     "text": [
      "0/100: loss: 11513.355\n",
      "1/100: loss: 11508.406\n",
      "2/100: loss: 11499.546\n",
      "3/100: loss: 11483.879\n",
      "4/100: loss: 11458.117\n",
      "5/100: loss: 11420.104\n",
      "6/100: loss: 11369.385\n",
      "7/100: loss: 11305.844\n",
      "8/100: loss: 11229.635\n",
      "9/100: loss: 11145.158\n",
      "10/100: loss: 11058.437\n",
      "11/100: loss: 10973.357\n",
      "12/100: loss: 10894.841\n",
      "13/100: loss: 10827.477\n",
      "14/100: loss: 10774.242\n",
      "15/100: loss: 10735.072\n",
      "16/100: loss: 10706.610\n",
      "17/100: loss: 10685.093\n",
      "18/100: loss: 10668.866\n",
      "19/100: loss: 10658.159\n",
      "20/100: loss: 10652.055\n",
      "21/100: loss: 10647.426\n",
      "22/100: loss: 10642.576\n",
      "23/100: loss: 10638.528\n",
      "24/100: loss: 10636.755\n",
      "25/100: loss: 10636.321\n",
      "26/100: loss: 10635.656\n",
      "27/100: loss: 10635.600\n",
      "28/100: loss: 10636.363\n",
      "29/100: loss: 10636.268\n",
      "30/100: loss: 10635.903\n",
      "31/100: loss: 10636.088\n",
      "32/100: loss: 10635.699\n",
      "33/100: loss: 10634.838\n",
      "34/100: loss: 10634.442\n",
      "35/100: loss: 10634.033\n",
      "36/100: loss: 10633.246\n",
      "37/100: loss: 10632.634\n",
      "38/100: loss: 10632.355\n",
      "39/100: loss: 10632.081\n",
      "40/100: loss: 10631.822\n",
      "41/100: loss: 10631.797\n",
      "42/100: loss: 10631.877\n",
      "43/100: loss: 10631.893\n",
      "44/100: loss: 10631.914\n",
      "45/100: loss: 10631.971\n",
      "46/100: loss: 10631.909\n",
      "47/100: loss: 10631.704\n",
      "48/100: loss: 10631.496\n",
      "49/100: loss: 10631.328\n",
      "50/100: loss: 10631.143\n",
      "51/100: loss: 10630.993\n",
      "52/100: loss: 10630.948\n",
      "53/100: loss: 10630.948\n",
      "54/100: loss: 10630.936\n",
      "55/100: loss: 10630.949\n",
      "56/100: loss: 10630.976\n",
      "57/100: loss: 10630.956\n",
      "58/100: loss: 10630.910\n",
      "59/100: loss: 10630.870\n",
      "60/100: loss: 10630.808\n",
      "61/100: loss: 10630.726\n",
      "62/100: loss: 10630.665\n",
      "63/100: loss: 10630.620\n",
      "64/100: loss: 10630.572\n",
      "65/100: loss: 10630.545\n",
      "66/100: loss: 10630.531\n",
      "67/100: loss: 10630.509\n",
      "68/100: loss: 10630.479\n",
      "69/100: loss: 10630.451\n",
      "70/100: loss: 10630.415\n",
      "71/100: loss: 10630.371\n",
      "72/100: loss: 10630.336\n",
      "73/100: loss: 10630.308\n",
      "74/100: loss: 10630.276\n",
      "75/100: loss: 10630.254\n",
      "76/100: loss: 10630.234\n",
      "77/100: loss: 10630.209\n",
      "78/100: loss: 10630.185\n",
      "79/100: loss: 10630.157\n",
      "80/100: loss: 10630.126\n",
      "81/100: loss: 10630.094\n",
      "82/100: loss: 10630.061\n",
      "83/100: loss: 10630.028\n",
      "84/100: loss: 10630.000\n",
      "85/100: loss: 10629.973\n",
      "86/100: loss: 10629.945\n",
      "87/100: loss: 10629.921\n",
      "88/100: loss: 10629.896\n",
      "89/100: loss: 10629.869\n",
      "90/100: loss: 10629.846\n",
      "91/100: loss: 10629.820\n",
      "92/100: loss: 10629.799\n",
      "93/100: loss: 10629.782\n",
      "94/100: loss: 10629.767\n",
      "95/100: loss: 10629.754\n",
      "96/100: loss: 10629.743\n",
      "97/100: loss: 10629.729\n",
      "98/100: loss: 10629.714\n",
      "99/100: loss: 10629.699\n"
     ]
    }
   ],
   "source": [
    "for i in range(train_steps):\n",
    "    loss, grad = jax.value_and_grad(loglh_loss_nn)(optimizer_nn.target)\n",
    "    optimizer_nn = optimizer_nn.apply_gradient(grad)\n",
    "    print(f'{i}/{train_steps}: loss: {loss:.3f}')"
   ]
  },
  {
   "cell_type": "code",
   "execution_count": 18,
   "metadata": {},
   "outputs": [
    {
     "data": {
      "image/png": "[encoded data removed]",
      "text/plain": [
       "<Figure size 576x432 with 1 Axes>"
      ]
     },
     "metadata": {
      "needs_background": "light"
     },
     "output_type": "display_data"
    }
   ],
   "source": [
    "plt.figure(figsize=(8,6))\n",
    "x = np.linspace(-5, 5, 150).reshape(-1, 1)\n",
    "plt.hist(data_nn[:,0], bins=70, density=True);\n",
    "plt.plot(x, optimizer_nn.target(x), linewidth=3, label='NN');\n",
    "plt.plot(x, optimizer_gauss.target(x), linewidth=3, label='Gauss');\n",
    "plt.legend(fontsize=20)\n",
    "plt.grid()\n",
    "plt.tight_layout()"
   ]
  },
  {
   "cell_type": "markdown",
   "metadata": {},
   "source": [
    "Serialize the model"
   ]
  },
  {
   "cell_type": "code",
   "execution_count": 22,
   "metadata": {},
   "outputs": [],
   "source": [
    "@flax.struct.dataclass\n",
    "class TrainState:\n",
    "    optimizer: optim.Optimizer"
   ]
  },
  {
   "cell_type": "code",
   "execution_count": 24,
   "metadata": {},
   "outputs": [
    {
     "name": "stdout",
     "output_type": "stream",
     "text": [
      "num bytes: 14388\n"
     ]
    }
   ],
   "source": [
    "with open('nn_norm.dat', 'wb') as ofile:\n",
    "    state = TrainState(optimizer=optimizer_nn)\n",
    "    data = flax.serialization.to_bytes(state)\n",
    "    print(f'num bytes: {len(data)}')\n",
    "    ofile.write(data)"
   ]
  },
  {
   "cell_type": "markdown",
   "metadata": {},
   "source": [
    "deserialize model"
   ]
  },
  {
   "cell_type": "code",
   "execution_count": 27,
   "metadata": {},
   "outputs": [],
   "source": [
    "with open('nn_norm.dat', 'rb') as ifile:\n",
    "    data = ifile.read()\n",
    "    restored_state = flax.serialization.from_bytes(state, data)"
   ]
  },
  {
   "cell_type": "code",
   "execution_count": 34,
   "metadata": {},
   "outputs": [
    {
     "data": {
      "image/png": "[encoded data removed]",
      "text/plain": [
       "<Figure size 576x432 with 1 Axes>"
      ]
     },
     "metadata": {
      "needs_background": "light"
     },
     "output_type": "display_data"
    }
   ],
   "source": [
    "plt.figure(figsize=(8,6))\n",
    "x = np.linspace(-5, 5, 150).reshape(-1, 1)\n",
    "plt.hist(data_nn[:,0], bins=70, density=True);\n",
    "plt.plot(x, restored_state.optimizer.target(x), linewidth=3, label='NN');\n",
    "plt.plot(x, optimizer_gauss.target(x), linewidth=3, label='Gauss');\n",
    "plt.legend(fontsize=20)\n",
    "plt.grid()\n",
    "plt.tight_layout()"
   ]
  },
  {
   "cell_type": "code",
   "execution_count": null,
   "metadata": {},
   "outputs": [],
   "source": []
  }
 ],
 "metadata": {
  "kernelspec": {
   "display_name": "Python 3",
   "language": "python",
   "name": "python3"
  },
  "language_info": {
   "codemirror_mode": {
    "name": "ipython",
    "version": 3
   },
   "file_extension": ".py",
   "mimetype": "text/x-python",
   "name": "python",
   "nbconvert_exporter": "python",
   "pygments_lexer": "ipython3",
   "version": "3.8.3"
  }
 },
 "nbformat": 4,
 "nbformat_minor": 4
}
