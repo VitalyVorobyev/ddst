{
 "cells": [
  {
   "cell_type": "markdown",
   "metadata": {},
   "source": [
    "# Toy MC check of unbinned loglh scan"
   ]
  },
  {
   "cell_type": "code",
   "execution_count": 1,
   "metadata": {},
   "outputs": [],
   "source": [
    "import os\n",
    "import re\n",
    "import numpy as np\n",
    "from scipy import interpolate\n",
    "import matplotlib.pyplot as plt\n",
    "\n",
    "def set_style(tick_label_size=16, font_size=18):\n",
    "    import matplotlib\n",
    "    matplotlib.rc('xtick', labelsize=tick_label_size)\n",
    "    matplotlib.rc('ytick', labelsize=tick_label_size)\n",
    "    matplotlib.rc('font', size=font_size)\n",
    "\n",
    "set_style()"
   ]
  },
  {
   "cell_type": "code",
   "execution_count": 2,
   "metadata": {},
   "outputs": [],
   "source": [
    "import jax\n",
    "import flax\n",
    "from flax import nn, optim, serialization"
   ]
  },
  {
   "cell_type": "code",
   "execution_count": 3,
   "metadata": {},
   "outputs": [],
   "source": [
    "from lib.params import mdn"
   ]
  },
  {
   "cell_type": "code",
   "execution_count": 4,
   "metadata": {},
   "outputs": [],
   "source": [
    "path_data = './mcsamples'\n",
    "path_models = './dat'"
   ]
  },
  {
   "cell_type": "code",
   "execution_count": 5,
   "metadata": {},
   "outputs": [],
   "source": [
    "def draw_1d_projections(ax, data, bins=250, weights=None):\n",
    "    labels = [r'$E (MeV)$', r'$p(D^0)$ (MeV)', r'$m(D^0pi^+)$ (GeV)']\n",
    "    for idx, lbl in enumerate(labels):\n",
    "        ax[idx].hist(data[:,idx], bins=bins, weights=weights);\n",
    "        ax[idx].grid()\n",
    "        ax[idx].set_xlabel(lbl)"
   ]
  },
  {
   "cell_type": "code",
   "execution_count": 6,
   "metadata": {},
   "outputs": [],
   "source": [
    "def model_file(re, im, ch):\n",
    "    return f'nn_model_3d_gs{re:.2f}_{im:.2f}_ch{ch}.dat'"
   ]
  },
  {
   "cell_type": "code",
   "execution_count": 7,
   "metadata": {},
   "outputs": [],
   "source": [
    "def norm_file(re, im, ch):\n",
    "    return f'norm_gs{re:.2f}_{im:.2f}_ch{ch}.npz'"
   ]
  },
  {
   "cell_type": "code",
   "execution_count": 8,
   "metadata": {},
   "outputs": [],
   "source": [
    "def smeared_samp_file(re, im, ch):\n",
    "    return f'mc_ddpip_3d_gs{re:.2f}_{im:.2f}_ch{ch}_smeared.npy'"
   ]
  },
  {
   "cell_type": "code",
   "execution_count": 9,
   "metadata": {},
   "outputs": [],
   "source": [
    "def get_vars(data):\n",
    "    \"\"\" \"\"\"\n",
    "    e, mddsq, md1pisq = [data[:,i] for i in range(3)]\n",
    "    tdd = (np.sqrt(mddsq) - 2*mdn)*10**3\n",
    "    mask = tdd > 0\n",
    "    pd = np.sqrt(np.clip(tdd, 0, None) * mdn * 10**3)\n",
    "    md1pi = np.sqrt(md1pisq)\n",
    "    return np.column_stack([e[mask], pd[mask], md1pi[mask]])"
   ]
  },
  {
   "cell_type": "code",
   "execution_count": 10,
   "metadata": {},
   "outputs": [],
   "source": [
    "def get_sample(re, im, ch):\n",
    "    return get_vars(np.load(os.path.join(path_data, smeared_samp_file(re, im, ch))))"
   ]
  },
  {
   "cell_type": "code",
   "execution_count": 11,
   "metadata": {},
   "outputs": [],
   "source": [
    "class NN(nn.Module):\n",
    "    def apply(self, x):\n",
    "        x = nn.Dense(x, features=32)\n",
    "        x = nn.relu(x)\n",
    "        x = nn.Dense(x, features=32)\n",
    "        x = nn.relu(x)\n",
    "        x = nn.Dense(x, features=16)\n",
    "        x = nn.relu(x)\n",
    "        x = nn.Dense(x, features=1)\n",
    "        return nn.sigmoid(x)"
   ]
  },
  {
   "cell_type": "code",
   "execution_count": 12,
   "metadata": {},
   "outputs": [],
   "source": [
    "@flax.struct.dataclass\n",
    "class TrainState:\n",
    "    optimizer: optim.Optimizer"
   ]
  },
  {
   "cell_type": "code",
   "execution_count": 13,
   "metadata": {},
   "outputs": [],
   "source": [
    "# @flax.struct.dataclass\n",
    "# class ModelState:\n",
    "#     model: nn.Model"
   ]
  },
  {
   "cell_type": "code",
   "execution_count": 14,
   "metadata": {},
   "outputs": [],
   "source": [
    "def get_norm(re, im, ch):\n",
    "    fname = os.path.join(path_models, norm_file(re, im, ch))\n",
    "    if not os.path.isfile(fname):\n",
    "        print('get_norm: {fname} not found')\n",
    "    ndata = np.load(fname)\n",
    "    return (ndata['mean'], ndata['std'])"
   ]
  },
  {
   "cell_type": "code",
   "execution_count": 15,
   "metadata": {},
   "outputs": [],
   "source": [
    "def read_models(path):\n",
    "    re_model = re.compile(r'.*nn_model_3d_gs(\\d+\\.\\d+)_(\\d\\.\\d+)_ch(\\d+)\\.dat')\n",
    "    models = {}\n",
    "    \n",
    "    key = jax.random.PRNGKey(0)\n",
    "    _, initial_params = NN.init(key, np.zeros((10, 3)))\n",
    "    \n",
    "    model = nn.Model(NN, initial_params)\n",
    "    \n",
    "    adam = optim.Adam(learning_rate=0.003)\n",
    "    optimizer = adam.create(model)\n",
    "    \n",
    "    state = TrainState(optimizer=optimizer)\n",
    "    \n",
    "    for item in os.listdir(path):\n",
    "        if not re_model.match(item):\n",
    "            continue\n",
    "        real, imag, chunks = re_model.findall(item)[0]\n",
    "        real = float(real)\n",
    "        imag = float(imag)\n",
    "        chunks = int(chunks)\n",
    "\n",
    "        print(f'{real:.2f} + i{imag:.2f}', end=' ')\n",
    "        means, stds = get_norm(real, imag, chunks)\n",
    "        \n",
    "        with open(os.path.join(path, item), 'rb') as f:\n",
    "            data = f.read()\n",
    "        \n",
    "        restored_state = flax.serialization.from_bytes(state, data)\n",
    "        jax.tree_map(np.shape, flax.serialization.to_state_dict(restored_state))\n",
    "        \n",
    "        model = nn.Model(NN, initial_params)\n",
    "        for layer in range(4):\n",
    "            model.params[f'Dense_{layer}'] =\\\n",
    "                restored_state.optimizer.state_dict()['target']['params'][f'Dense_{layer}']\n",
    "        \n",
    "        def pdf(data):\n",
    "            norm_data = np.empty(data.shape)\n",
    "            for idx, (m, s) in enumerate(zip(means, stds)):\n",
    "                norm_data[:, idx] = (data[:, idx] - m) / s\n",
    "            return np.array(model(norm_data))\n",
    "        models[(real, imag)] = pdf\n",
    "    \n",
    "    return models"
   ]
  },
  {
   "cell_type": "code",
   "execution_count": 16,
   "metadata": {},
   "outputs": [
    {
     "name": "stderr",
     "output_type": "stream",
     "text": [
      "/home/vitaly/miniconda3/envs/tf2/lib/python3.8/site-packages/jax/lib/xla_bridge.py:125: UserWarning: No GPU/TPU found, falling back to CPU.\n",
      "  warnings.warn('No GPU/TPU found, falling back to CPU.')\n"
     ]
    },
    {
     "name": "stdout",
     "output_type": "stream",
     "text": [
      "42.00 + i1.50 35.00 + i1.50 36.00 + i1.70 45.50 + i1.45 40.50 + i1.55 40.00 + i1.20 41.00 + i1.80 40.00 + i1.10 39.00 + i1.80 46.50 + i1.15 45.50 + i1.35 36.00 + i1.60 35.00 + i1.80 36.00 + i1.40 44.00 + i1.30 37.00 + i1.80 41.10 + i1.61 40.00 + i1.60 39.00 + i1.30 43.50 + i1.45 43.50 + i1.55 42.00 + i1.40 43.00 + i1.30 38.50 + i1.35 42.00 + i1.60 45.00 + i1.90 37.00 + i1.20 41.00 + i1.20 36.00 + i1.90 41.00 + i1.30 44.00 + i1.70 44.50 + i1.65 38.00 + i1.20 43.00 + i1.70 41.00 + i1.40 38.50 + i1.75 46.00 + i1.50 43.00 + i1.90 38.00 + i1.70 38.00 + i1.60 39.00 + i1.90 39.00 + i1.50 43.00 + i1.80 45.00 + i1.80 36.00 + i1.20 42.50 + i1.85 36.00 + i1.10 44.00 + i1.60 38.00 + i1.80 41.00 + i1.90 43.00 + i1.20 41.00 + i1.50 46.00 + i1.40 46.00 + i1.20 45.00 + i1.30 39.00 + i1.70 44.50 + i1.45 46.00 + i1.60 36.00 + i1.50 42.50 + i1.35 38.00 + i1.10 38.00 + i1.30 40.00 + i1.40 46.00 + i1.70 44.00 + i1.20 35.50 + i1.35 46.00 + i1.10 43.50 + i1.25 41.00 + i1.50 45.00 + i1.60 35.00 + i1.70 41.00 + i1.10 35.00 + i1.60 39.50 + i1.85 40.00 + i1.80 42.00 + i1.80 40.00 + i1.50 39.00 + i1.60 35.00 + i1.90 46.00 + i1.90 38.50 + i1.85 45.00 + i1.20 42.00 + i1.90 37.00 + i1.50 35.50 + i1.85 39.00 + i1.40 46.00 + i1.80 40.00 + i1.70 37.00 + i1.40 41.00 + i1.60 40.50 + i1.45 42.00 + i1.30 44.00 + i1.90 41.00 + i1.70 35.00 + i1.20 42.00 + i1.70 44.00 + i1.80 39.00 + i1.10 41.10 + i1.51 35.00 + i1.30 45.00 + i1.10 38.00 + i1.90 36.00 + i1.30 44.00 + i1.10 45.00 + i1.50 43.00 + i1.10 44.00 + i1.50 37.00 + i1.10 45.50 + i1.95 38.00 + i1.50 39.00 + i1.20 38.00 + i1.40 45.00 + i1.70 37.50 + i1.55 35.00 + i1.10 40.00 + i1.30 36.00 + i1.80 44.00 + i1.40 43.00 + i1.60 37.50 + i1.25 43.00 + i1.50 40.00 + i1.90 46.00 + i1.30 45.50 + i1.15 46.50 + i1.55 45.00 + i1.40 42.00 + i1.10 40.50 + i1.65 37.00 + i1.70 37.00 + i1.30 37.00 + i1.90 39.50 + i1.45 43.00 + i1.40 37.00 + i1.60 37.50 + i1.75 42.00 + i1.20 40.10 + i1.71 "
     ]
    }
   ],
   "source": [
    "models = read_models(path_models)"
   ]
  },
  {
   "cell_type": "code",
   "execution_count": 17,
   "metadata": {},
   "outputs": [
    {
     "data": {
      "image/png": "[encoded data removed]",
      "text/plain": [
       "<Figure size 576x504 with 1 Axes>"
      ]
     },
     "metadata": {
      "needs_background": "light"
     },
     "output_type": "display_data"
    }
   ],
   "source": [
    "fig, ax = plt.subplots(figsize=(8,7))\n",
    "gam = np.array(list(models.keys()))\n",
    "ax.scatter(gam[:,0], gam[:,1]);"
   ]
  },
  {
   "cell_type": "code",
   "execution_count": 18,
   "metadata": {},
   "outputs": [],
   "source": [
    "def uniform_sample(rg, limits, N):\n",
    "    \"\"\" \"\"\"\n",
    "    lo = [x[0] for x in limits]\n",
    "    hi = [x[1] for x in limits]\n",
    "    return rg.uniform(lo, hi, (N, len(limits)))"
   ]
  },
  {
   "cell_type": "code",
   "execution_count": 19,
   "metadata": {},
   "outputs": [],
   "source": [
    "def norm_sample(rg, samp, mult=10):\n",
    "    norm_size = mult*samp.shape[0]\n",
    "    limits = [[np.min(samp[:, i]), np.max(samp[:, i])] for i in range(samp.shape[1])]\n",
    "    return uniform_sample(rg, limits, norm_size)"
   ]
  },
  {
   "cell_type": "code",
   "execution_count": 20,
   "metadata": {},
   "outputs": [],
   "source": [
    "def unbinned_loglh(rg, model, sample):\n",
    "    return -np.sum(np.log(model(sample))) +\\\n",
    "        sample.shape[0] * (np.log(np.mean(model(norm_sample(rg, sample, mult=100)))))"
   ]
  },
  {
   "cell_type": "code",
   "execution_count": 21,
   "metadata": {},
   "outputs": [
    {
     "data": {
      "text/plain": [
       "(5000, 3)"
      ]
     },
     "execution_count": 21,
     "metadata": {},
     "output_type": "execute_result"
    }
   ],
   "source": [
    "test_params = (44, 1.8)\n",
    "sample = get_sample(*test_params, 250)[:5*10**3]\n",
    "sample.shape"
   ]
  },
  {
   "cell_type": "code",
   "execution_count": 22,
   "metadata": {},
   "outputs": [],
   "source": [
    "rg = np.random.Generator(np.random.PCG64())"
   ]
  },
  {
   "cell_type": "code",
   "execution_count": 23,
   "metadata": {},
   "outputs": [],
   "source": [
    "mg_gsre, mg_gsim, lhmap = [], [], []\n",
    "for (re, im), pdf in models.items():\n",
    "    mg_gsre.append(re)\n",
    "    mg_gsim.append(im)\n",
    "    lhmap.append(unbinned_loglh(rg, pdf, sample))"
   ]
  },
  {
   "cell_type": "code",
   "execution_count": 24,
   "metadata": {},
   "outputs": [],
   "source": [
    "def draw_spline_contours(ax, x, y, z, levels=10):\n",
    "    newx, newy = np.meshgrid(\n",
    "        np.linspace(np.min(x), np.max(x), 10),\n",
    "        np.linspace(np.min(y), np.max(y), 10)\n",
    "    )\n",
    "    f = interpolate.griddata(\n",
    "        np.column_stack([x, y]), z, (newx, newy),\n",
    "        method='cubic'\n",
    "    )\n",
    "#     f = interpolate.interp2d(x, y, z, kind='cubic')\n",
    "    cntf = ax.contourf(newx, newy, f, levels=levels);\n",
    "    plt.colorbar(cntf, ax=ax);"
   ]
  },
  {
   "cell_type": "code",
   "execution_count": 25,
   "metadata": {},
   "outputs": [
    {
     "data": {
      "image/png": "[encoded data removed]",
      "text/plain": [
       "<Figure size 720x576 with 2 Axes>"
      ]
     },
     "metadata": {
      "needs_background": "light"
     },
     "output_type": "display_data"
    }
   ],
   "source": [
    "fig, ax = plt.subplots(figsize=(10,8))\n",
    "draw_spline_contours(ax, mg_gsre, mg_gsim, lhmap, levels=10)\n",
    "ax.plot([test_params[0]], [test_params[1]], marker='.', markersize=10, color='r');\n",
    "fig.tight_layout()\n",
    "fig.savefig('loglh_scan.png')"
   ]
  },
  {
   "cell_type": "code",
   "execution_count": 27,
   "metadata": {},
   "outputs": [
    {
     "data": {
      "text/plain": [
       "(136, 3)"
      ]
     },
     "execution_count": 27,
     "metadata": {},
     "output_type": "execute_result"
    }
   ],
   "source": [
    "lhscan = np.column_stack([mg_gsre, mg_gsim, lhmap])\n",
    "lhscan.shape"
   ]
  },
  {
   "cell_type": "code",
   "execution_count": 30,
   "metadata": {},
   "outputs": [
    {
     "data": {
      "image/png": "[encoded data removed]",
      "text/plain": [
       "<Figure size 576x504 with 1 Axes>"
      ]
     },
     "metadata": {
      "needs_background": "light"
     },
     "output_type": "display_data"
    }
   ],
   "source": [
    "fig, ax = plt.subplots(figsize=(8,7))\n",
    "mask = lhscan[:,0] == 44\n",
    "ax.scatter(lhscan[mask][:, 1], lhscan[mask][:, 2])\n",
    "ax.grid()"
   ]
  },
  {
   "cell_type": "code",
   "execution_count": null,
   "metadata": {},
   "outputs": [],
   "source": []
  }
 ],
 "metadata": {
  "kernelspec": {
   "display_name": "Python 3",
   "language": "python",
   "name": "python3"
  },
  "language_info": {
   "codemirror_mode": {
    "name": "ipython",
    "version": 3
   },
   "file_extension": ".py",
   "mimetype": "text/x-python",
   "name": "python",
   "nbconvert_exporter": "python",
   "pygments_lexer": "ipython3",
   "version": "3.8.3"
  }
 },
 "nbformat": 4,
 "nbformat_minor": 4
}
