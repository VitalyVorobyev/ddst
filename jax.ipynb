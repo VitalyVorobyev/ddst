{
 "cells": [
  {
   "cell_type": "markdown",
   "metadata": {},
   "source": [
    "# Simple ML fit\n",
    "Let's do a max lh fit of 1D data set sampled from normal distribution with Jax and Flax"
   ]
  },
  {
   "cell_type": "code",
   "execution_count": 1,
   "metadata": {},
   "outputs": [],
   "source": [
    "import jax\n",
    "import jax.numpy as np\n",
    "import jax.random as rjax\n",
    "from flax import nn, optim\n",
    "import matplotlib.pyplot as plt"
   ]
  },
  {
   "cell_type": "markdown",
   "metadata": {},
   "source": [
    "Generate input data"
   ]
  },
  {
   "cell_type": "code",
   "execution_count": 2,
   "metadata": {},
   "outputs": [
    {
     "name": "stderr",
     "output_type": "stream",
     "text": [
      "/home/vitaly/.conda/envs/lhcbtf2/lib/python3.7/site-packages/jax/lib/xla_bridge.py:116: UserWarning: No GPU/TPU found, falling back to CPU.\n",
      "  warnings.warn('No GPU/TPU found, falling back to CPU.')\n"
     ]
    },
    {
     "data": {
      "text/plain": [
       "(1000, 1)"
      ]
     },
     "execution_count": 2,
     "metadata": {},
     "output_type": "execute_result"
    }
   ],
   "source": [
    "N = 10**3\n",
    "data = rjax.normal(rjax.PRNGKey(1), (N,1))\n",
    "data.shape"
   ]
  },
  {
   "cell_type": "code",
   "execution_count": 3,
   "metadata": {},
   "outputs": [],
   "source": [
    "class Gauss(nn.Module):\n",
    "\n",
    "    def apply(self, x):\n",
    "        loc_init = jax.nn.initializers.uniform(scale=3)\n",
    "        scale_init = jax.nn.initializers.uniform(scale=10)\n",
    "        \n",
    "        loc = self.param('loc', (1,), loc_init)\n",
    "        scale = self.param('scale', (1,), scale_init)\n",
    "        \n",
    "        return jax.scipy.stats.norm.pdf(x, loc, scale)"
   ]
  },
  {
   "cell_type": "code",
   "execution_count": 4,
   "metadata": {},
   "outputs": [
    {
     "data": {
      "text/plain": [
       "{'loc': DeviceArray([2.433644], dtype=float32),\n",
       " 'scale': DeviceArray([1.9777608], dtype=float32)}"
      ]
     },
     "execution_count": 4,
     "metadata": {},
     "output_type": "execute_result"
    }
   ],
   "source": [
    "_, initial_params_gauss = Gauss.init(rjax.PRNGKey(0), data)\n",
    "initial_params_gauss"
   ]
  },
  {
   "cell_type": "code",
   "execution_count": 5,
   "metadata": {},
   "outputs": [],
   "source": [
    "model_gauss = nn.Model(Gauss, initial_params_gauss)"
   ]
  },
  {
   "cell_type": "code",
   "execution_count": 6,
   "metadata": {},
   "outputs": [],
   "source": [
    "optimizer_def = optim.Momentum(learning_rate=0.1/data.shape[0], beta=0.9)\n",
    "optimizer_gauss = optimizer_def.create(model_gauss)\n",
    "train_steps = 100"
   ]
  },
  {
   "cell_type": "code",
   "execution_count": 7,
   "metadata": {},
   "outputs": [],
   "source": [
    "def loglh_loss(model):\n",
    "    Xnorm = rjax.uniform(rjax.PRNGKey(10), (10**5,), minval=-5., maxval=5.)\n",
    "    return -np.sum(np.log(model(data))) +\\\n",
    "        data.shape[0] * np.log(np.sum(model(Xnorm)))"
   ]
  },
  {
   "cell_type": "code",
   "execution_count": 8,
   "metadata": {},
   "outputs": [],
   "source": [
    "for i in range(train_steps):\n",
    "    loss, grad = jax.value_and_grad(loglh_loss)(optimizer_gauss.target)\n",
    "    optimizer_gauss = optimizer_gauss.apply_gradient(grad)"
   ]
  },
  {
   "cell_type": "code",
   "execution_count": 9,
   "metadata": {},
   "outputs": [
    {
     "name": "stdout",
     "output_type": "stream",
     "text": [
      "loglh: 10632.911\n"
     ]
    }
   ],
   "source": [
    "print('loglh:', loss)"
   ]
  },
  {
   "cell_type": "code",
   "execution_count": 10,
   "metadata": {},
   "outputs": [
    {
     "data": {
      "text/plain": [
       "{'loc': DeviceArray([-0.04234972], dtype=float32),\n",
       " 'scale': DeviceArray([0.99382913], dtype=float32)}"
      ]
     },
     "execution_count": 10,
     "metadata": {},
     "output_type": "execute_result"
    }
   ],
   "source": [
    "trained_model_gauss = optimizer_gauss.target\n",
    "trained_model_gauss.params"
   ]
  },
  {
   "cell_type": "markdown",
   "metadata": {},
   "source": [
    "# Dense NN\n",
    "Let's model normal pdf with a neural network"
   ]
  },
  {
   "cell_type": "code",
   "execution_count": 11,
   "metadata": {},
   "outputs": [
    {
     "data": {
      "text/plain": [
       "(1000, 1)"
      ]
     },
     "execution_count": 11,
     "metadata": {},
     "output_type": "execute_result"
    }
   ],
   "source": [
    "N = 10**3\n",
    "data_nn = rjax.normal(rjax.PRNGKey(1), (N,1))\n",
    "data_nn.shape"
   ]
  },
  {
   "cell_type": "code",
   "execution_count": 12,
   "metadata": {},
   "outputs": [],
   "source": [
    "class NN(nn.Module):\n",
    "    def apply(self, x):\n",
    "        x = nn.Dense(x, features=32)\n",
    "        x = nn.sigmoid(x)\n",
    "        x = nn.Dense(x, features=32)\n",
    "        x = nn.sigmoid(x)\n",
    "        x = nn.Dense(x, features=1)\n",
    "        return nn.sigmoid(x)"
   ]
  },
  {
   "cell_type": "code",
   "execution_count": 13,
   "metadata": {},
   "outputs": [
    {
     "data": {
      "text/plain": [
       "{'Dense_0': {'bias': (32,), 'kernel': (1, 32)},\n",
       " 'Dense_1': {'bias': (32,), 'kernel': (32, 32)},\n",
       " 'Dense_2': {'bias': (1,), 'kernel': (32, 1)}}"
      ]
     },
     "execution_count": 13,
     "metadata": {},
     "output_type": "execute_result"
    }
   ],
   "source": [
    "_, initial_params_nn = NN.init(rjax.PRNGKey(0), data_nn)\n",
    "jax.tree_map(np.shape, initial_params_nn)"
   ]
  },
  {
   "cell_type": "code",
   "execution_count": 14,
   "metadata": {},
   "outputs": [],
   "source": [
    "model_nn = nn.Model(NN, initial_params_nn)"
   ]
  },
  {
   "cell_type": "code",
   "execution_count": 15,
   "metadata": {},
   "outputs": [],
   "source": [
    "adam = optim.Adam(learning_rate=0.03)\n",
    "optimizer_nn = adam.create(model_nn)\n",
    "train_steps = 100"
   ]
  },
  {
   "cell_type": "code",
   "execution_count": 16,
   "metadata": {},
   "outputs": [],
   "source": [
    "def loglh_loss_nn(model):\n",
    "    Xnorm = rjax.uniform(rjax.PRNGKey(10), (10**5, 1), minval=-5., maxval=5.)\n",
    "    return -np.sum(np.log(model(data_nn))) +\\\n",
    "        data_nn.shape[0] * np.log(np.sum(model(Xnorm)))"
   ]
  },
  {
   "cell_type": "code",
   "execution_count": 17,
   "metadata": {
    "scrolled": true
   },
   "outputs": [
    {
     "name": "stdout",
     "output_type": "stream",
     "text": [
      "0/100: loss: 11513.355\n",
      "1/100: loss: 11508.406\n",
      "2/100: loss: 11499.546\n",
      "3/100: loss: 11483.879\n",
      "4/100: loss: 11458.118\n",
      "5/100: loss: 11420.103\n",
      "6/100: loss: 11369.386\n",
      "7/100: loss: 11305.844\n",
      "8/100: loss: 11229.634\n",
      "9/100: loss: 11145.158\n",
      "10/100: loss: 11058.436\n",
      "11/100: loss: 10973.357\n",
      "12/100: loss: 10894.842\n",
      "13/100: loss: 10827.476\n",
      "14/100: loss: 10774.243\n",
      "15/100: loss: 10735.072\n",
      "16/100: loss: 10706.609\n",
      "17/100: loss: 10685.094\n",
      "18/100: loss: 10668.866\n",
      "19/100: loss: 10658.159\n",
      "20/100: loss: 10652.054\n",
      "21/100: loss: 10647.425\n",
      "22/100: loss: 10642.576\n",
      "23/100: loss: 10638.527\n",
      "24/100: loss: 10636.756\n",
      "25/100: loss: 10636.320\n",
      "26/100: loss: 10635.655\n",
      "27/100: loss: 10635.599\n",
      "28/100: loss: 10636.363\n",
      "29/100: loss: 10636.269\n",
      "30/100: loss: 10635.903\n",
      "31/100: loss: 10636.088\n",
      "32/100: loss: 10635.699\n",
      "33/100: loss: 10634.838\n",
      "34/100: loss: 10634.441\n",
      "35/100: loss: 10634.034\n",
      "36/100: loss: 10633.244\n",
      "37/100: loss: 10632.634\n",
      "38/100: loss: 10632.355\n",
      "39/100: loss: 10632.081\n",
      "40/100: loss: 10631.821\n",
      "41/100: loss: 10631.796\n",
      "42/100: loss: 10631.877\n",
      "43/100: loss: 10631.893\n",
      "44/100: loss: 10631.914\n",
      "45/100: loss: 10631.970\n",
      "46/100: loss: 10631.908\n",
      "47/100: loss: 10631.704\n",
      "48/100: loss: 10631.497\n",
      "49/100: loss: 10631.327\n",
      "50/100: loss: 10631.144\n",
      "51/100: loss: 10630.994\n",
      "52/100: loss: 10630.947\n",
      "53/100: loss: 10630.949\n",
      "54/100: loss: 10630.936\n",
      "55/100: loss: 10630.949\n",
      "56/100: loss: 10630.977\n",
      "57/100: loss: 10630.957\n",
      "58/100: loss: 10630.909\n",
      "59/100: loss: 10630.870\n",
      "60/100: loss: 10630.807\n",
      "61/100: loss: 10630.726\n",
      "62/100: loss: 10630.665\n",
      "63/100: loss: 10630.620\n",
      "64/100: loss: 10630.572\n",
      "65/100: loss: 10630.546\n",
      "66/100: loss: 10630.531\n",
      "67/100: loss: 10630.507\n",
      "68/100: loss: 10630.479\n",
      "69/100: loss: 10630.452\n",
      "70/100: loss: 10630.414\n",
      "71/100: loss: 10630.371\n",
      "72/100: loss: 10630.338\n",
      "73/100: loss: 10630.307\n",
      "74/100: loss: 10630.275\n",
      "75/100: loss: 10630.255\n",
      "76/100: loss: 10630.234\n",
      "77/100: loss: 10630.209\n",
      "78/100: loss: 10630.184\n",
      "79/100: loss: 10630.158\n",
      "80/100: loss: 10630.125\n",
      "81/100: loss: 10630.094\n",
      "82/100: loss: 10630.062\n",
      "83/100: loss: 10630.028\n",
      "84/100: loss: 10629.999\n",
      "85/100: loss: 10629.973\n",
      "86/100: loss: 10629.945\n",
      "87/100: loss: 10629.922\n",
      "88/100: loss: 10629.896\n",
      "89/100: loss: 10629.870\n",
      "90/100: loss: 10629.845\n",
      "91/100: loss: 10629.821\n",
      "92/100: loss: 10629.799\n",
      "93/100: loss: 10629.782\n",
      "94/100: loss: 10629.768\n",
      "95/100: loss: 10629.754\n",
      "96/100: loss: 10629.743\n",
      "97/100: loss: 10629.729\n",
      "98/100: loss: 10629.716\n",
      "99/100: loss: 10629.700\n"
     ]
    }
   ],
   "source": [
    "for i in range(train_steps):\n",
    "    loss, grad = jax.value_and_grad(loglh_loss_nn)(optimizer_nn.target)\n",
    "    optimizer_nn = optimizer_nn.apply_gradient(grad)\n",
    "    print(f'{i}/{train_steps}: loss: {loss:.3f}')"
   ]
  },
  {
   "cell_type": "code",
   "execution_count": 18,
   "metadata": {},
   "outputs": [
    {
     "data": {
      "image/png": "[encoded data removed]",
      "text/plain": [
       "<Figure size 576x432 with 1 Axes>"
      ]
     },
     "metadata": {
      "needs_background": "light"
     },
     "output_type": "display_data"
    }
   ],
   "source": [
    "plt.figure(figsize=(8,6))\n",
    "x = np.linspace(-5, 5, 150).reshape(-1, 1)\n",
    "plt.hist(data_nn[:,0], bins=70, density=True);\n",
    "plt.plot(x, optimizer_nn.target(x), linewidth=3, label='NN');\n",
    "plt.plot(x, optimizer_gauss.target(x), linewidth=3, label='Gauss');\n",
    "plt.legend(fontsize=20)\n",
    "plt.grid()\n",
    "plt.tight_layout()"
   ]
  }
 ],
 "metadata": {
  "kernelspec": {
   "display_name": "Python 3",
   "language": "python",
   "name": "python3"
  },
  "language_info": {
   "codemirror_mode": {
    "name": "ipython",
    "version": 3
   },
   "file_extension": ".py",
   "mimetype": "text/x-python",
   "name": "python",
   "nbconvert_exporter": "python",
   "pygments_lexer": "ipython3",
   "version": "3.7.6"
  }
 },
 "nbformat": 4,
 "nbformat_minor": 4
}
